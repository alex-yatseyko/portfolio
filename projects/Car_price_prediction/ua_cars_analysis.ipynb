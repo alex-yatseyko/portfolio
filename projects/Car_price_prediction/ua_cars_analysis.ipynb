{
 "cells": [
  {
   "cell_type": "code",
   "execution_count": 34,
   "metadata": {},
   "outputs": [
    {
     "data": {
      "text/html": [
       "<div>\n",
       "<style scoped>\n",
       "    .dataframe tbody tr th:only-of-type {\n",
       "        vertical-align: middle;\n",
       "    }\n",
       "\n",
       "    .dataframe tbody tr th {\n",
       "        vertical-align: top;\n",
       "    }\n",
       "\n",
       "    .dataframe thead th {\n",
       "        text-align: right;\n",
       "    }\n",
       "</style>\n",
       "<table border=\"1\" class=\"dataframe\">\n",
       "  <thead>\n",
       "    <tr style=\"text-align: right;\">\n",
       "      <th></th>\n",
       "      <th>price</th>\n",
       "      <th>model</th>\n",
       "      <th>city</th>\n",
       "      <th>brand</th>\n",
       "      <th>fuel</th>\n",
       "      <th>engine</th>\n",
       "      <th>year</th>\n",
       "      <th>mileage</th>\n",
       "      <th>transmission</th>\n",
       "      <th>bodytype</th>\n",
       "    </tr>\n",
       "  </thead>\n",
       "  <tbody>\n",
       "    <tr>\n",
       "      <th>0</th>\n",
       "      <td>12 100</td>\n",
       "      <td>Volkswagen Passat</td>\n",
       "      <td>Черняхів</td>\n",
       "      <td>volkswagen</td>\n",
       "      <td>dizel</td>\n",
       "      <td>Дизель, 2 л.</td>\n",
       "      <td>2013</td>\n",
       "      <td>308 тис. км</td>\n",
       "      <td>Автомат</td>\n",
       "      <td>universal</td>\n",
       "    </tr>\n",
       "    <tr>\n",
       "      <th>1</th>\n",
       "      <td>16 700</td>\n",
       "      <td>Toyota Camry</td>\n",
       "      <td>Київ</td>\n",
       "      <td>toyota</td>\n",
       "      <td>benzin</td>\n",
       "      <td>Бензин, 2.5 л.</td>\n",
       "      <td>2011</td>\n",
       "      <td>165 тис. км</td>\n",
       "      <td>Автомат</td>\n",
       "      <td>sedan</td>\n",
       "    </tr>\n",
       "    <tr>\n",
       "      <th>2</th>\n",
       "      <td>9 700</td>\n",
       "      <td>Volkswagen Passat</td>\n",
       "      <td>Вінниця</td>\n",
       "      <td>volkswagen</td>\n",
       "      <td>gaz-propan-butan-benzin</td>\n",
       "      <td>Газ пропан-бутан / Бензин, 2.5 л.</td>\n",
       "      <td>2013</td>\n",
       "      <td>176 тис. км</td>\n",
       "      <td>Автомат</td>\n",
       "      <td>sedan</td>\n",
       "    </tr>\n",
       "    <tr>\n",
       "      <th>3</th>\n",
       "      <td>14 100</td>\n",
       "      <td>Volkswagen Passat</td>\n",
       "      <td>Київ</td>\n",
       "      <td>volkswagen</td>\n",
       "      <td>dizel</td>\n",
       "      <td>Дизель, 1.97 л.</td>\n",
       "      <td>2016</td>\n",
       "      <td>300 тис. км</td>\n",
       "      <td>Автомат</td>\n",
       "      <td>universal</td>\n",
       "    </tr>\n",
       "    <tr>\n",
       "      <th>4</th>\n",
       "      <td>16 500</td>\n",
       "      <td>Volkswagen Passat</td>\n",
       "      <td>Ржищів</td>\n",
       "      <td>volkswagen</td>\n",
       "      <td>benzin</td>\n",
       "      <td>Бензин, 1.8 л.</td>\n",
       "      <td>2016</td>\n",
       "      <td>207 тис. км</td>\n",
       "      <td>Автомат</td>\n",
       "      <td>sedan</td>\n",
       "    </tr>\n",
       "    <tr>\n",
       "      <th>5</th>\n",
       "      <td>14 500</td>\n",
       "      <td>Toyota Camry</td>\n",
       "      <td>Вінниця</td>\n",
       "      <td>toyota</td>\n",
       "      <td>benzin</td>\n",
       "      <td>Бензин, 2.49 л.</td>\n",
       "      <td>2012</td>\n",
       "      <td>164 тис. км</td>\n",
       "      <td>Автомат</td>\n",
       "      <td>sedan</td>\n",
       "    </tr>\n",
       "    <tr>\n",
       "      <th>6</th>\n",
       "      <td>12 200</td>\n",
       "      <td>Volkswagen Passat</td>\n",
       "      <td>Бориспіль</td>\n",
       "      <td>volkswagen</td>\n",
       "      <td>benzin</td>\n",
       "      <td>Бензин, 1.8 л.</td>\n",
       "      <td>2015</td>\n",
       "      <td>130 тис. км</td>\n",
       "      <td>Автомат</td>\n",
       "      <td>sedan</td>\n",
       "    </tr>\n",
       "    <tr>\n",
       "      <th>7</th>\n",
       "      <td>11 000</td>\n",
       "      <td>Toyota Yaris</td>\n",
       "      <td>Київ</td>\n",
       "      <td>toyota</td>\n",
       "      <td>benzin</td>\n",
       "      <td>Бензин, 1.5 л.</td>\n",
       "      <td>2017</td>\n",
       "      <td>127 тис. км</td>\n",
       "      <td>Автомат</td>\n",
       "      <td>sedan</td>\n",
       "    </tr>\n",
       "    <tr>\n",
       "      <th>8</th>\n",
       "      <td>8 800</td>\n",
       "      <td>Volkswagen Passat</td>\n",
       "      <td>Біла Церква</td>\n",
       "      <td>volkswagen</td>\n",
       "      <td>gaz-propan-butan-benzin</td>\n",
       "      <td>Газ пропан-бутан / Бензин, 2.5 л.</td>\n",
       "      <td>2012</td>\n",
       "      <td>259 тис. км</td>\n",
       "      <td>Автомат</td>\n",
       "      <td>sedan</td>\n",
       "    </tr>\n",
       "    <tr>\n",
       "      <th>9</th>\n",
       "      <td>7 700</td>\n",
       "      <td>Volkswagen Passat</td>\n",
       "      <td>Житомир</td>\n",
       "      <td>volkswagen</td>\n",
       "      <td>gaz-propan-butan-benzin</td>\n",
       "      <td>Газ пропан-бутан / Бензин, 1.4 л.</td>\n",
       "      <td>2012</td>\n",
       "      <td>251 тис. км</td>\n",
       "      <td>Ручна / Механіка</td>\n",
       "      <td>universal</td>\n",
       "    </tr>\n",
       "    <tr>\n",
       "      <th>10</th>\n",
       "      <td>9 950</td>\n",
       "      <td>Toyota Avensis</td>\n",
       "      <td>Вінниця</td>\n",
       "      <td>toyota</td>\n",
       "      <td>benzin</td>\n",
       "      <td>Бензин, 1.8 л.</td>\n",
       "      <td>2011</td>\n",
       "      <td>131 тис. км</td>\n",
       "      <td>Ручна / Механіка</td>\n",
       "      <td>sedan</td>\n",
       "    </tr>\n",
       "    <tr>\n",
       "      <th>11</th>\n",
       "      <td>9 900</td>\n",
       "      <td>Volkswagen Golf</td>\n",
       "      <td>Біла Церква</td>\n",
       "      <td>volkswagen</td>\n",
       "      <td>dizel</td>\n",
       "      <td>Дизель, 1.6 л.</td>\n",
       "      <td>2015</td>\n",
       "      <td>205 тис. км</td>\n",
       "      <td>Ручна / Механіка</td>\n",
       "      <td>universal</td>\n",
       "    </tr>\n",
       "    <tr>\n",
       "      <th>12</th>\n",
       "      <td>8 499</td>\n",
       "      <td>Volkswagen Golf</td>\n",
       "      <td>Тульчин</td>\n",
       "      <td>volkswagen</td>\n",
       "      <td>dizel</td>\n",
       "      <td>Дизель, 1.6 л.</td>\n",
       "      <td>2012</td>\n",
       "      <td>250 тис. км</td>\n",
       "      <td>Автомат</td>\n",
       "      <td>universal</td>\n",
       "    </tr>\n",
       "    <tr>\n",
       "      <th>13</th>\n",
       "      <td>13 900</td>\n",
       "      <td>Toyota Avensis</td>\n",
       "      <td>Житомир</td>\n",
       "      <td>toyota</td>\n",
       "      <td>benzin</td>\n",
       "      <td>Бензин, 1.8 л.</td>\n",
       "      <td>2015</td>\n",
       "      <td>178 тис. км</td>\n",
       "      <td>Ручна / Механіка</td>\n",
       "      <td>sedan</td>\n",
       "    </tr>\n",
       "    <tr>\n",
       "      <th>14</th>\n",
       "      <td>7 200</td>\n",
       "      <td>Volkswagen Golf</td>\n",
       "      <td>Бровари</td>\n",
       "      <td>volkswagen</td>\n",
       "      <td>dizel</td>\n",
       "      <td>Дизель, 1.6 л.</td>\n",
       "      <td>2013</td>\n",
       "      <td>360 тис. км</td>\n",
       "      <td>Ручна / Механіка</td>\n",
       "      <td>universal</td>\n",
       "    </tr>\n",
       "    <tr>\n",
       "      <th>15</th>\n",
       "      <td>13 500</td>\n",
       "      <td>Volkswagen Golf</td>\n",
       "      <td>Бердичів</td>\n",
       "      <td>volkswagen</td>\n",
       "      <td>dizel</td>\n",
       "      <td>Дизель, 1.6 л.</td>\n",
       "      <td>2015</td>\n",
       "      <td>283 тис. км</td>\n",
       "      <td>Ручна / Механіка</td>\n",
       "      <td>universal</td>\n",
       "    </tr>\n",
       "    <tr>\n",
       "      <th>16</th>\n",
       "      <td>16 998</td>\n",
       "      <td>Volkswagen Passat</td>\n",
       "      <td>Житомир</td>\n",
       "      <td>volkswagen</td>\n",
       "      <td>dizel</td>\n",
       "      <td>Дизель, 1.97 л.</td>\n",
       "      <td>2015</td>\n",
       "      <td>296 тис. км</td>\n",
       "      <td>Автомат</td>\n",
       "      <td>universal</td>\n",
       "    </tr>\n",
       "    <tr>\n",
       "      <th>17</th>\n",
       "      <td>12 500</td>\n",
       "      <td>Volkswagen Passat</td>\n",
       "      <td>Київ</td>\n",
       "      <td>volkswagen</td>\n",
       "      <td>benzin</td>\n",
       "      <td>Бензин, 1.8 л.</td>\n",
       "      <td>2016</td>\n",
       "      <td>155 тис. км</td>\n",
       "      <td>Автомат</td>\n",
       "      <td>sedan</td>\n",
       "    </tr>\n",
       "    <tr>\n",
       "      <th>18</th>\n",
       "      <td>10 500</td>\n",
       "      <td>Volkswagen Passat</td>\n",
       "      <td>Київ</td>\n",
       "      <td>volkswagen</td>\n",
       "      <td>benzin</td>\n",
       "      <td>Бензин, 2.48 л.</td>\n",
       "      <td>2013</td>\n",
       "      <td>277 тис. км</td>\n",
       "      <td>Автомат</td>\n",
       "      <td>sedan</td>\n",
       "    </tr>\n",
       "    <tr>\n",
       "      <th>19</th>\n",
       "      <td>7 750</td>\n",
       "      <td>Volkswagen Golf</td>\n",
       "      <td>Бердичів</td>\n",
       "      <td>volkswagen</td>\n",
       "      <td>benzin</td>\n",
       "      <td>Бензин, 1.6 л.</td>\n",
       "      <td>2012</td>\n",
       "      <td>208 тис. км</td>\n",
       "      <td>Ручна / Механіка</td>\n",
       "      <td>universal</td>\n",
       "    </tr>\n",
       "    <tr>\n",
       "      <th>20</th>\n",
       "      <td>8 800</td>\n",
       "      <td>Volkswagen Golf</td>\n",
       "      <td>Київ</td>\n",
       "      <td>volkswagen</td>\n",
       "      <td>benzin</td>\n",
       "      <td>Бензин, 1.4 л.</td>\n",
       "      <td>2013</td>\n",
       "      <td>173 тис. км</td>\n",
       "      <td>Автомат</td>\n",
       "      <td>universal</td>\n",
       "    </tr>\n",
       "    <tr>\n",
       "      <th>21</th>\n",
       "      <td>15 900</td>\n",
       "      <td>Toyota Camry</td>\n",
       "      <td>Київ</td>\n",
       "      <td>toyota</td>\n",
       "      <td>benzin</td>\n",
       "      <td>Бензин, 2.5 л.</td>\n",
       "      <td>2017</td>\n",
       "      <td>145 тис. км</td>\n",
       "      <td>Автомат</td>\n",
       "      <td>sedan</td>\n",
       "    </tr>\n",
       "    <tr>\n",
       "      <th>22</th>\n",
       "      <td>9 500</td>\n",
       "      <td>Volkswagen Passat</td>\n",
       "      <td>Ладижин</td>\n",
       "      <td>volkswagen</td>\n",
       "      <td>gaz-propan-butan-benzin</td>\n",
       "      <td>Газ пропан-бутан / Бензин, 2.48 л.</td>\n",
       "      <td>2012</td>\n",
       "      <td>197 тис. км</td>\n",
       "      <td>Автомат</td>\n",
       "      <td>sedan</td>\n",
       "    </tr>\n",
       "    <tr>\n",
       "      <th>23</th>\n",
       "      <td>8 100</td>\n",
       "      <td>Volkswagen Passat</td>\n",
       "      <td>Бориспіль</td>\n",
       "      <td>volkswagen</td>\n",
       "      <td>gaz-propan-butan-benzin</td>\n",
       "      <td>Газ пропан-бутан / Бензин, 2.5 л.</td>\n",
       "      <td>2013</td>\n",
       "      <td>200 тис. км</td>\n",
       "      <td>Автомат</td>\n",
       "      <td>sedan</td>\n",
       "    </tr>\n",
       "    <tr>\n",
       "      <th>24</th>\n",
       "      <td>12 950</td>\n",
       "      <td>Volkswagen Passat</td>\n",
       "      <td>Вінниця</td>\n",
       "      <td>volkswagen</td>\n",
       "      <td>benzin</td>\n",
       "      <td>Бензин, 1.8 л.</td>\n",
       "      <td>2016</td>\n",
       "      <td>120 тис. км</td>\n",
       "      <td>Автомат</td>\n",
       "      <td>sedan</td>\n",
       "    </tr>\n",
       "    <tr>\n",
       "      <th>25</th>\n",
       "      <td>10 050</td>\n",
       "      <td>Volkswagen Passat</td>\n",
       "      <td>Київ</td>\n",
       "      <td>volkswagen</td>\n",
       "      <td>gaz-propan-butan-benzin</td>\n",
       "      <td>Газ пропан-бутан / Бензин, 2.5 л.</td>\n",
       "      <td>2012</td>\n",
       "      <td>210 тис. км</td>\n",
       "      <td>Автомат</td>\n",
       "      <td>sedan</td>\n",
       "    </tr>\n",
       "    <tr>\n",
       "      <th>26</th>\n",
       "      <td>17 990</td>\n",
       "      <td>Volkswagen Passat</td>\n",
       "      <td>Київ</td>\n",
       "      <td>volkswagen</td>\n",
       "      <td>dizel</td>\n",
       "      <td>Дизель, 2 л.</td>\n",
       "      <td>2016</td>\n",
       "      <td>223 тис. км</td>\n",
       "      <td>Автомат</td>\n",
       "      <td>universal</td>\n",
       "    </tr>\n",
       "    <tr>\n",
       "      <th>27</th>\n",
       "      <td>11 400</td>\n",
       "      <td>Volkswagen Passat</td>\n",
       "      <td>Київ</td>\n",
       "      <td>volkswagen</td>\n",
       "      <td>dizel</td>\n",
       "      <td>Дизель, 1.6 л.</td>\n",
       "      <td>2013</td>\n",
       "      <td>217 тис. км</td>\n",
       "      <td>Ручна / Механіка</td>\n",
       "      <td>universal</td>\n",
       "    </tr>\n",
       "    <tr>\n",
       "      <th>28</th>\n",
       "      <td>10 500</td>\n",
       "      <td>Volkswagen Passat</td>\n",
       "      <td>Бровари</td>\n",
       "      <td>volkswagen</td>\n",
       "      <td>benzin</td>\n",
       "      <td>Бензин, 2.5 л.</td>\n",
       "      <td>2013</td>\n",
       "      <td>202 тис. км</td>\n",
       "      <td>Автомат</td>\n",
       "      <td>sedan</td>\n",
       "    </tr>\n",
       "    <tr>\n",
       "      <th>29</th>\n",
       "      <td>11 500</td>\n",
       "      <td>Volkswagen Passat</td>\n",
       "      <td>Софіївська Борщагівка</td>\n",
       "      <td>volkswagen</td>\n",
       "      <td>gaz-propan-butan-benzin</td>\n",
       "      <td>Газ пропан-бутан / Бензин, 2.5 л.</td>\n",
       "      <td>2012</td>\n",
       "      <td>320 тис. км</td>\n",
       "      <td>Автомат</td>\n",
       "      <td>sedan</td>\n",
       "    </tr>\n",
       "    <tr>\n",
       "      <th>30</th>\n",
       "      <td>11 300</td>\n",
       "      <td>Volkswagen Passat</td>\n",
       "      <td>Київ</td>\n",
       "      <td>volkswagen</td>\n",
       "      <td>dizel</td>\n",
       "      <td>Дизель, 2 л.</td>\n",
       "      <td>2012</td>\n",
       "      <td>270 тис. км</td>\n",
       "      <td>Ручна / Механіка</td>\n",
       "      <td>sedan</td>\n",
       "    </tr>\n",
       "  </tbody>\n",
       "</table>\n",
       "</div>"
      ],
      "text/plain": [
       "     price              model                   city       brand  \\\n",
       "0   12 100  Volkswagen Passat               Черняхів  volkswagen   \n",
       "1   16 700       Toyota Camry                   Київ      toyota   \n",
       "2    9 700  Volkswagen Passat                Вінниця  volkswagen   \n",
       "3   14 100  Volkswagen Passat                   Київ  volkswagen   \n",
       "4   16 500  Volkswagen Passat                 Ржищів  volkswagen   \n",
       "5   14 500       Toyota Camry                Вінниця      toyota   \n",
       "6   12 200  Volkswagen Passat              Бориспіль  volkswagen   \n",
       "7   11 000       Toyota Yaris                   Київ      toyota   \n",
       "8    8 800  Volkswagen Passat            Біла Церква  volkswagen   \n",
       "9    7 700  Volkswagen Passat                Житомир  volkswagen   \n",
       "10   9 950     Toyota Avensis                Вінниця      toyota   \n",
       "11   9 900    Volkswagen Golf            Біла Церква  volkswagen   \n",
       "12   8 499    Volkswagen Golf                Тульчин  volkswagen   \n",
       "13  13 900     Toyota Avensis                Житомир      toyota   \n",
       "14   7 200    Volkswagen Golf                Бровари  volkswagen   \n",
       "15  13 500    Volkswagen Golf               Бердичів  volkswagen   \n",
       "16  16 998  Volkswagen Passat                Житомир  volkswagen   \n",
       "17  12 500  Volkswagen Passat                   Київ  volkswagen   \n",
       "18  10 500  Volkswagen Passat                   Київ  volkswagen   \n",
       "19   7 750    Volkswagen Golf               Бердичів  volkswagen   \n",
       "20   8 800    Volkswagen Golf                   Київ  volkswagen   \n",
       "21  15 900       Toyota Camry                   Київ      toyota   \n",
       "22   9 500  Volkswagen Passat                Ладижин  volkswagen   \n",
       "23   8 100  Volkswagen Passat              Бориспіль  volkswagen   \n",
       "24  12 950  Volkswagen Passat                Вінниця  volkswagen   \n",
       "25  10 050  Volkswagen Passat                   Київ  volkswagen   \n",
       "26  17 990  Volkswagen Passat                   Київ  volkswagen   \n",
       "27  11 400  Volkswagen Passat                   Київ  volkswagen   \n",
       "28  10 500  Volkswagen Passat                Бровари  volkswagen   \n",
       "29  11 500  Volkswagen Passat  Софіївська Борщагівка  volkswagen   \n",
       "30  11 300  Volkswagen Passat                   Київ  volkswagen   \n",
       "\n",
       "                       fuel                              engine  year  \\\n",
       "0                     dizel                        Дизель, 2 л.  2013   \n",
       "1                    benzin                      Бензин, 2.5 л.  2011   \n",
       "2   gaz-propan-butan-benzin   Газ пропан-бутан / Бензин, 2.5 л.  2013   \n",
       "3                     dizel                     Дизель, 1.97 л.  2016   \n",
       "4                    benzin                      Бензин, 1.8 л.  2016   \n",
       "5                    benzin                     Бензин, 2.49 л.  2012   \n",
       "6                    benzin                      Бензин, 1.8 л.  2015   \n",
       "7                    benzin                      Бензин, 1.5 л.  2017   \n",
       "8   gaz-propan-butan-benzin   Газ пропан-бутан / Бензин, 2.5 л.  2012   \n",
       "9   gaz-propan-butan-benzin   Газ пропан-бутан / Бензин, 1.4 л.  2012   \n",
       "10                   benzin                      Бензин, 1.8 л.  2011   \n",
       "11                    dizel                      Дизель, 1.6 л.  2015   \n",
       "12                    dizel                      Дизель, 1.6 л.  2012   \n",
       "13                   benzin                      Бензин, 1.8 л.  2015   \n",
       "14                    dizel                      Дизель, 1.6 л.  2013   \n",
       "15                    dizel                      Дизель, 1.6 л.  2015   \n",
       "16                    dizel                     Дизель, 1.97 л.  2015   \n",
       "17                   benzin                      Бензин, 1.8 л.  2016   \n",
       "18                   benzin                     Бензин, 2.48 л.  2013   \n",
       "19                   benzin                      Бензин, 1.6 л.  2012   \n",
       "20                   benzin                      Бензин, 1.4 л.  2013   \n",
       "21                   benzin                      Бензин, 2.5 л.  2017   \n",
       "22  gaz-propan-butan-benzin  Газ пропан-бутан / Бензин, 2.48 л.  2012   \n",
       "23  gaz-propan-butan-benzin   Газ пропан-бутан / Бензин, 2.5 л.  2013   \n",
       "24                   benzin                      Бензин, 1.8 л.  2016   \n",
       "25  gaz-propan-butan-benzin   Газ пропан-бутан / Бензин, 2.5 л.  2012   \n",
       "26                    dizel                        Дизель, 2 л.  2016   \n",
       "27                    dizel                      Дизель, 1.6 л.  2013   \n",
       "28                   benzin                      Бензин, 2.5 л.  2013   \n",
       "29  gaz-propan-butan-benzin   Газ пропан-бутан / Бензин, 2.5 л.  2012   \n",
       "30                    dizel                        Дизель, 2 л.  2012   \n",
       "\n",
       "        mileage      transmission   bodytype  \n",
       "0   308 тис. км           Автомат  universal  \n",
       "1   165 тис. км           Автомат      sedan  \n",
       "2   176 тис. км           Автомат      sedan  \n",
       "3   300 тис. км           Автомат  universal  \n",
       "4   207 тис. км           Автомат      sedan  \n",
       "5   164 тис. км           Автомат      sedan  \n",
       "6   130 тис. км           Автомат      sedan  \n",
       "7   127 тис. км           Автомат      sedan  \n",
       "8   259 тис. км           Автомат      sedan  \n",
       "9   251 тис. км  Ручна / Механіка  universal  \n",
       "10  131 тис. км  Ручна / Механіка      sedan  \n",
       "11  205 тис. км  Ручна / Механіка  universal  \n",
       "12  250 тис. км           Автомат  universal  \n",
       "13  178 тис. км  Ручна / Механіка      sedan  \n",
       "14  360 тис. км  Ручна / Механіка  universal  \n",
       "15  283 тис. км  Ручна / Механіка  universal  \n",
       "16  296 тис. км           Автомат  universal  \n",
       "17  155 тис. км           Автомат      sedan  \n",
       "18  277 тис. км           Автомат      sedan  \n",
       "19  208 тис. км  Ручна / Механіка  universal  \n",
       "20  173 тис. км           Автомат  universal  \n",
       "21  145 тис. км           Автомат      sedan  \n",
       "22  197 тис. км           Автомат      sedan  \n",
       "23  200 тис. км           Автомат      sedan  \n",
       "24  120 тис. км           Автомат      sedan  \n",
       "25  210 тис. км           Автомат      sedan  \n",
       "26  223 тис. км           Автомат  universal  \n",
       "27  217 тис. км  Ручна / Механіка  universal  \n",
       "28  202 тис. км           Автомат      sedan  \n",
       "29  320 тис. км           Автомат      sedan  \n",
       "30  270 тис. км  Ручна / Механіка      sedan  "
      ]
     },
     "execution_count": 34,
     "metadata": {},
     "output_type": "execute_result"
    }
   ],
   "source": [
    "import pandas as pd\n",
    "\n",
    "df = pd.read_csv('fetched_cars_data.csv')\n",
    "df"
   ]
  },
  {
   "cell_type": "markdown",
   "metadata": {},
   "source": [
    "## Preprocessing"
   ]
  },
  {
   "cell_type": "code",
   "execution_count": null,
   "metadata": {},
   "outputs": [],
   "source": [
    "# First impression: we can encode fuel, brand, city, transmission, bodytype\n",
    "# We can cut out model and encode it\n",
    "# We can feature engineer engine volume. No need for fuel type as we have different column\n",
    "# We can modify mileage so there will be no 'тис. км'"
   ]
  },
  {
   "cell_type": "code",
   "execution_count": 35,
   "metadata": {},
   "outputs": [],
   "source": [
    "# Mileage preprocessing\n",
    "df['mileage'] = df['mileage'].str[:3].astype(int)\n",
    " \n",
    "# Year transformation to int\n",
    "df[\"year\"] = df[\"year\"].astype(int)\n",
    "\n",
    "# Price transformation to int\n",
    "df['price'] = df['price'].str.replace(' ', '').astype(int)\n",
    "\n",
    "# Engine volume feature engineering\n",
    "df['engine'] = df['engine'].str.extract(r'(\\d+(\\.\\d+)?)').astype(float).drop(columns=[1], errors='ignore')"
   ]
  },
  {
   "cell_type": "code",
   "execution_count": 36,
   "metadata": {},
   "outputs": [
    {
     "data": {
      "text/html": [
       "<div>\n",
       "<style scoped>\n",
       "    .dataframe tbody tr th:only-of-type {\n",
       "        vertical-align: middle;\n",
       "    }\n",
       "\n",
       "    .dataframe tbody tr th {\n",
       "        vertical-align: top;\n",
       "    }\n",
       "\n",
       "    .dataframe thead th {\n",
       "        text-align: right;\n",
       "    }\n",
       "</style>\n",
       "<table border=\"1\" class=\"dataframe\">\n",
       "  <thead>\n",
       "    <tr style=\"text-align: right;\">\n",
       "      <th></th>\n",
       "      <th>price</th>\n",
       "      <th>model</th>\n",
       "      <th>city</th>\n",
       "      <th>brand</th>\n",
       "      <th>fuel</th>\n",
       "      <th>engine</th>\n",
       "      <th>year</th>\n",
       "      <th>mileage</th>\n",
       "      <th>transmission</th>\n",
       "      <th>bodytype</th>\n",
       "    </tr>\n",
       "  </thead>\n",
       "  <tbody>\n",
       "    <tr>\n",
       "      <th>0</th>\n",
       "      <td>12100</td>\n",
       "      <td>Volkswagen Passat</td>\n",
       "      <td>Черняхів</td>\n",
       "      <td>volkswagen</td>\n",
       "      <td>dizel</td>\n",
       "      <td>2.00</td>\n",
       "      <td>2013</td>\n",
       "      <td>308</td>\n",
       "      <td>Автомат</td>\n",
       "      <td>universal</td>\n",
       "    </tr>\n",
       "    <tr>\n",
       "      <th>1</th>\n",
       "      <td>16700</td>\n",
       "      <td>Toyota Camry</td>\n",
       "      <td>Київ</td>\n",
       "      <td>toyota</td>\n",
       "      <td>benzin</td>\n",
       "      <td>2.50</td>\n",
       "      <td>2011</td>\n",
       "      <td>165</td>\n",
       "      <td>Автомат</td>\n",
       "      <td>sedan</td>\n",
       "    </tr>\n",
       "    <tr>\n",
       "      <th>2</th>\n",
       "      <td>9700</td>\n",
       "      <td>Volkswagen Passat</td>\n",
       "      <td>Вінниця</td>\n",
       "      <td>volkswagen</td>\n",
       "      <td>gaz-propan-butan-benzin</td>\n",
       "      <td>2.50</td>\n",
       "      <td>2013</td>\n",
       "      <td>176</td>\n",
       "      <td>Автомат</td>\n",
       "      <td>sedan</td>\n",
       "    </tr>\n",
       "    <tr>\n",
       "      <th>3</th>\n",
       "      <td>14100</td>\n",
       "      <td>Volkswagen Passat</td>\n",
       "      <td>Київ</td>\n",
       "      <td>volkswagen</td>\n",
       "      <td>dizel</td>\n",
       "      <td>1.97</td>\n",
       "      <td>2016</td>\n",
       "      <td>300</td>\n",
       "      <td>Автомат</td>\n",
       "      <td>universal</td>\n",
       "    </tr>\n",
       "    <tr>\n",
       "      <th>4</th>\n",
       "      <td>16500</td>\n",
       "      <td>Volkswagen Passat</td>\n",
       "      <td>Ржищів</td>\n",
       "      <td>volkswagen</td>\n",
       "      <td>benzin</td>\n",
       "      <td>1.80</td>\n",
       "      <td>2016</td>\n",
       "      <td>207</td>\n",
       "      <td>Автомат</td>\n",
       "      <td>sedan</td>\n",
       "    </tr>\n",
       "    <tr>\n",
       "      <th>5</th>\n",
       "      <td>14500</td>\n",
       "      <td>Toyota Camry</td>\n",
       "      <td>Вінниця</td>\n",
       "      <td>toyota</td>\n",
       "      <td>benzin</td>\n",
       "      <td>2.49</td>\n",
       "      <td>2012</td>\n",
       "      <td>164</td>\n",
       "      <td>Автомат</td>\n",
       "      <td>sedan</td>\n",
       "    </tr>\n",
       "    <tr>\n",
       "      <th>6</th>\n",
       "      <td>12200</td>\n",
       "      <td>Volkswagen Passat</td>\n",
       "      <td>Бориспіль</td>\n",
       "      <td>volkswagen</td>\n",
       "      <td>benzin</td>\n",
       "      <td>1.80</td>\n",
       "      <td>2015</td>\n",
       "      <td>130</td>\n",
       "      <td>Автомат</td>\n",
       "      <td>sedan</td>\n",
       "    </tr>\n",
       "    <tr>\n",
       "      <th>7</th>\n",
       "      <td>11000</td>\n",
       "      <td>Toyota Yaris</td>\n",
       "      <td>Київ</td>\n",
       "      <td>toyota</td>\n",
       "      <td>benzin</td>\n",
       "      <td>1.50</td>\n",
       "      <td>2017</td>\n",
       "      <td>127</td>\n",
       "      <td>Автомат</td>\n",
       "      <td>sedan</td>\n",
       "    </tr>\n",
       "    <tr>\n",
       "      <th>8</th>\n",
       "      <td>8800</td>\n",
       "      <td>Volkswagen Passat</td>\n",
       "      <td>Біла Церква</td>\n",
       "      <td>volkswagen</td>\n",
       "      <td>gaz-propan-butan-benzin</td>\n",
       "      <td>2.50</td>\n",
       "      <td>2012</td>\n",
       "      <td>259</td>\n",
       "      <td>Автомат</td>\n",
       "      <td>sedan</td>\n",
       "    </tr>\n",
       "    <tr>\n",
       "      <th>9</th>\n",
       "      <td>7700</td>\n",
       "      <td>Volkswagen Passat</td>\n",
       "      <td>Житомир</td>\n",
       "      <td>volkswagen</td>\n",
       "      <td>gaz-propan-butan-benzin</td>\n",
       "      <td>1.40</td>\n",
       "      <td>2012</td>\n",
       "      <td>251</td>\n",
       "      <td>Ручна / Механіка</td>\n",
       "      <td>universal</td>\n",
       "    </tr>\n",
       "    <tr>\n",
       "      <th>10</th>\n",
       "      <td>9950</td>\n",
       "      <td>Toyota Avensis</td>\n",
       "      <td>Вінниця</td>\n",
       "      <td>toyota</td>\n",
       "      <td>benzin</td>\n",
       "      <td>1.80</td>\n",
       "      <td>2011</td>\n",
       "      <td>131</td>\n",
       "      <td>Ручна / Механіка</td>\n",
       "      <td>sedan</td>\n",
       "    </tr>\n",
       "    <tr>\n",
       "      <th>11</th>\n",
       "      <td>9900</td>\n",
       "      <td>Volkswagen Golf</td>\n",
       "      <td>Біла Церква</td>\n",
       "      <td>volkswagen</td>\n",
       "      <td>dizel</td>\n",
       "      <td>1.60</td>\n",
       "      <td>2015</td>\n",
       "      <td>205</td>\n",
       "      <td>Ручна / Механіка</td>\n",
       "      <td>universal</td>\n",
       "    </tr>\n",
       "    <tr>\n",
       "      <th>12</th>\n",
       "      <td>8499</td>\n",
       "      <td>Volkswagen Golf</td>\n",
       "      <td>Тульчин</td>\n",
       "      <td>volkswagen</td>\n",
       "      <td>dizel</td>\n",
       "      <td>1.60</td>\n",
       "      <td>2012</td>\n",
       "      <td>250</td>\n",
       "      <td>Автомат</td>\n",
       "      <td>universal</td>\n",
       "    </tr>\n",
       "    <tr>\n",
       "      <th>13</th>\n",
       "      <td>13900</td>\n",
       "      <td>Toyota Avensis</td>\n",
       "      <td>Житомир</td>\n",
       "      <td>toyota</td>\n",
       "      <td>benzin</td>\n",
       "      <td>1.80</td>\n",
       "      <td>2015</td>\n",
       "      <td>178</td>\n",
       "      <td>Ручна / Механіка</td>\n",
       "      <td>sedan</td>\n",
       "    </tr>\n",
       "    <tr>\n",
       "      <th>14</th>\n",
       "      <td>7200</td>\n",
       "      <td>Volkswagen Golf</td>\n",
       "      <td>Бровари</td>\n",
       "      <td>volkswagen</td>\n",
       "      <td>dizel</td>\n",
       "      <td>1.60</td>\n",
       "      <td>2013</td>\n",
       "      <td>360</td>\n",
       "      <td>Ручна / Механіка</td>\n",
       "      <td>universal</td>\n",
       "    </tr>\n",
       "    <tr>\n",
       "      <th>15</th>\n",
       "      <td>13500</td>\n",
       "      <td>Volkswagen Golf</td>\n",
       "      <td>Бердичів</td>\n",
       "      <td>volkswagen</td>\n",
       "      <td>dizel</td>\n",
       "      <td>1.60</td>\n",
       "      <td>2015</td>\n",
       "      <td>283</td>\n",
       "      <td>Ручна / Механіка</td>\n",
       "      <td>universal</td>\n",
       "    </tr>\n",
       "    <tr>\n",
       "      <th>16</th>\n",
       "      <td>16998</td>\n",
       "      <td>Volkswagen Passat</td>\n",
       "      <td>Житомир</td>\n",
       "      <td>volkswagen</td>\n",
       "      <td>dizel</td>\n",
       "      <td>1.97</td>\n",
       "      <td>2015</td>\n",
       "      <td>296</td>\n",
       "      <td>Автомат</td>\n",
       "      <td>universal</td>\n",
       "    </tr>\n",
       "    <tr>\n",
       "      <th>17</th>\n",
       "      <td>12500</td>\n",
       "      <td>Volkswagen Passat</td>\n",
       "      <td>Київ</td>\n",
       "      <td>volkswagen</td>\n",
       "      <td>benzin</td>\n",
       "      <td>1.80</td>\n",
       "      <td>2016</td>\n",
       "      <td>155</td>\n",
       "      <td>Автомат</td>\n",
       "      <td>sedan</td>\n",
       "    </tr>\n",
       "    <tr>\n",
       "      <th>18</th>\n",
       "      <td>10500</td>\n",
       "      <td>Volkswagen Passat</td>\n",
       "      <td>Київ</td>\n",
       "      <td>volkswagen</td>\n",
       "      <td>benzin</td>\n",
       "      <td>2.48</td>\n",
       "      <td>2013</td>\n",
       "      <td>277</td>\n",
       "      <td>Автомат</td>\n",
       "      <td>sedan</td>\n",
       "    </tr>\n",
       "    <tr>\n",
       "      <th>19</th>\n",
       "      <td>7750</td>\n",
       "      <td>Volkswagen Golf</td>\n",
       "      <td>Бердичів</td>\n",
       "      <td>volkswagen</td>\n",
       "      <td>benzin</td>\n",
       "      <td>1.60</td>\n",
       "      <td>2012</td>\n",
       "      <td>208</td>\n",
       "      <td>Ручна / Механіка</td>\n",
       "      <td>universal</td>\n",
       "    </tr>\n",
       "    <tr>\n",
       "      <th>20</th>\n",
       "      <td>8800</td>\n",
       "      <td>Volkswagen Golf</td>\n",
       "      <td>Київ</td>\n",
       "      <td>volkswagen</td>\n",
       "      <td>benzin</td>\n",
       "      <td>1.40</td>\n",
       "      <td>2013</td>\n",
       "      <td>173</td>\n",
       "      <td>Автомат</td>\n",
       "      <td>universal</td>\n",
       "    </tr>\n",
       "    <tr>\n",
       "      <th>21</th>\n",
       "      <td>15900</td>\n",
       "      <td>Toyota Camry</td>\n",
       "      <td>Київ</td>\n",
       "      <td>toyota</td>\n",
       "      <td>benzin</td>\n",
       "      <td>2.50</td>\n",
       "      <td>2017</td>\n",
       "      <td>145</td>\n",
       "      <td>Автомат</td>\n",
       "      <td>sedan</td>\n",
       "    </tr>\n",
       "    <tr>\n",
       "      <th>22</th>\n",
       "      <td>9500</td>\n",
       "      <td>Volkswagen Passat</td>\n",
       "      <td>Ладижин</td>\n",
       "      <td>volkswagen</td>\n",
       "      <td>gaz-propan-butan-benzin</td>\n",
       "      <td>2.48</td>\n",
       "      <td>2012</td>\n",
       "      <td>197</td>\n",
       "      <td>Автомат</td>\n",
       "      <td>sedan</td>\n",
       "    </tr>\n",
       "    <tr>\n",
       "      <th>23</th>\n",
       "      <td>8100</td>\n",
       "      <td>Volkswagen Passat</td>\n",
       "      <td>Бориспіль</td>\n",
       "      <td>volkswagen</td>\n",
       "      <td>gaz-propan-butan-benzin</td>\n",
       "      <td>2.50</td>\n",
       "      <td>2013</td>\n",
       "      <td>200</td>\n",
       "      <td>Автомат</td>\n",
       "      <td>sedan</td>\n",
       "    </tr>\n",
       "    <tr>\n",
       "      <th>24</th>\n",
       "      <td>12950</td>\n",
       "      <td>Volkswagen Passat</td>\n",
       "      <td>Вінниця</td>\n",
       "      <td>volkswagen</td>\n",
       "      <td>benzin</td>\n",
       "      <td>1.80</td>\n",
       "      <td>2016</td>\n",
       "      <td>120</td>\n",
       "      <td>Автомат</td>\n",
       "      <td>sedan</td>\n",
       "    </tr>\n",
       "    <tr>\n",
       "      <th>25</th>\n",
       "      <td>10050</td>\n",
       "      <td>Volkswagen Passat</td>\n",
       "      <td>Київ</td>\n",
       "      <td>volkswagen</td>\n",
       "      <td>gaz-propan-butan-benzin</td>\n",
       "      <td>2.50</td>\n",
       "      <td>2012</td>\n",
       "      <td>210</td>\n",
       "      <td>Автомат</td>\n",
       "      <td>sedan</td>\n",
       "    </tr>\n",
       "    <tr>\n",
       "      <th>26</th>\n",
       "      <td>17990</td>\n",
       "      <td>Volkswagen Passat</td>\n",
       "      <td>Київ</td>\n",
       "      <td>volkswagen</td>\n",
       "      <td>dizel</td>\n",
       "      <td>2.00</td>\n",
       "      <td>2016</td>\n",
       "      <td>223</td>\n",
       "      <td>Автомат</td>\n",
       "      <td>universal</td>\n",
       "    </tr>\n",
       "    <tr>\n",
       "      <th>27</th>\n",
       "      <td>11400</td>\n",
       "      <td>Volkswagen Passat</td>\n",
       "      <td>Київ</td>\n",
       "      <td>volkswagen</td>\n",
       "      <td>dizel</td>\n",
       "      <td>1.60</td>\n",
       "      <td>2013</td>\n",
       "      <td>217</td>\n",
       "      <td>Ручна / Механіка</td>\n",
       "      <td>universal</td>\n",
       "    </tr>\n",
       "    <tr>\n",
       "      <th>28</th>\n",
       "      <td>10500</td>\n",
       "      <td>Volkswagen Passat</td>\n",
       "      <td>Бровари</td>\n",
       "      <td>volkswagen</td>\n",
       "      <td>benzin</td>\n",
       "      <td>2.50</td>\n",
       "      <td>2013</td>\n",
       "      <td>202</td>\n",
       "      <td>Автомат</td>\n",
       "      <td>sedan</td>\n",
       "    </tr>\n",
       "    <tr>\n",
       "      <th>29</th>\n",
       "      <td>11500</td>\n",
       "      <td>Volkswagen Passat</td>\n",
       "      <td>Софіївська Борщагівка</td>\n",
       "      <td>volkswagen</td>\n",
       "      <td>gaz-propan-butan-benzin</td>\n",
       "      <td>2.50</td>\n",
       "      <td>2012</td>\n",
       "      <td>320</td>\n",
       "      <td>Автомат</td>\n",
       "      <td>sedan</td>\n",
       "    </tr>\n",
       "    <tr>\n",
       "      <th>30</th>\n",
       "      <td>11300</td>\n",
       "      <td>Volkswagen Passat</td>\n",
       "      <td>Київ</td>\n",
       "      <td>volkswagen</td>\n",
       "      <td>dizel</td>\n",
       "      <td>2.00</td>\n",
       "      <td>2012</td>\n",
       "      <td>270</td>\n",
       "      <td>Ручна / Механіка</td>\n",
       "      <td>sedan</td>\n",
       "    </tr>\n",
       "  </tbody>\n",
       "</table>\n",
       "</div>"
      ],
      "text/plain": [
       "    price              model                   city       brand  \\\n",
       "0   12100  Volkswagen Passat               Черняхів  volkswagen   \n",
       "1   16700       Toyota Camry                   Київ      toyota   \n",
       "2    9700  Volkswagen Passat                Вінниця  volkswagen   \n",
       "3   14100  Volkswagen Passat                   Київ  volkswagen   \n",
       "4   16500  Volkswagen Passat                 Ржищів  volkswagen   \n",
       "5   14500       Toyota Camry                Вінниця      toyota   \n",
       "6   12200  Volkswagen Passat              Бориспіль  volkswagen   \n",
       "7   11000       Toyota Yaris                   Київ      toyota   \n",
       "8    8800  Volkswagen Passat            Біла Церква  volkswagen   \n",
       "9    7700  Volkswagen Passat                Житомир  volkswagen   \n",
       "10   9950     Toyota Avensis                Вінниця      toyota   \n",
       "11   9900    Volkswagen Golf            Біла Церква  volkswagen   \n",
       "12   8499    Volkswagen Golf                Тульчин  volkswagen   \n",
       "13  13900     Toyota Avensis                Житомир      toyota   \n",
       "14   7200    Volkswagen Golf                Бровари  volkswagen   \n",
       "15  13500    Volkswagen Golf               Бердичів  volkswagen   \n",
       "16  16998  Volkswagen Passat                Житомир  volkswagen   \n",
       "17  12500  Volkswagen Passat                   Київ  volkswagen   \n",
       "18  10500  Volkswagen Passat                   Київ  volkswagen   \n",
       "19   7750    Volkswagen Golf               Бердичів  volkswagen   \n",
       "20   8800    Volkswagen Golf                   Київ  volkswagen   \n",
       "21  15900       Toyota Camry                   Київ      toyota   \n",
       "22   9500  Volkswagen Passat                Ладижин  volkswagen   \n",
       "23   8100  Volkswagen Passat              Бориспіль  volkswagen   \n",
       "24  12950  Volkswagen Passat                Вінниця  volkswagen   \n",
       "25  10050  Volkswagen Passat                   Київ  volkswagen   \n",
       "26  17990  Volkswagen Passat                   Київ  volkswagen   \n",
       "27  11400  Volkswagen Passat                   Київ  volkswagen   \n",
       "28  10500  Volkswagen Passat                Бровари  volkswagen   \n",
       "29  11500  Volkswagen Passat  Софіївська Борщагівка  volkswagen   \n",
       "30  11300  Volkswagen Passat                   Київ  volkswagen   \n",
       "\n",
       "                       fuel  engine  year  mileage      transmission  \\\n",
       "0                     dizel    2.00  2013      308           Автомат   \n",
       "1                    benzin    2.50  2011      165           Автомат   \n",
       "2   gaz-propan-butan-benzin    2.50  2013      176           Автомат   \n",
       "3                     dizel    1.97  2016      300           Автомат   \n",
       "4                    benzin    1.80  2016      207           Автомат   \n",
       "5                    benzin    2.49  2012      164           Автомат   \n",
       "6                    benzin    1.80  2015      130           Автомат   \n",
       "7                    benzin    1.50  2017      127           Автомат   \n",
       "8   gaz-propan-butan-benzin    2.50  2012      259           Автомат   \n",
       "9   gaz-propan-butan-benzin    1.40  2012      251  Ручна / Механіка   \n",
       "10                   benzin    1.80  2011      131  Ручна / Механіка   \n",
       "11                    dizel    1.60  2015      205  Ручна / Механіка   \n",
       "12                    dizel    1.60  2012      250           Автомат   \n",
       "13                   benzin    1.80  2015      178  Ручна / Механіка   \n",
       "14                    dizel    1.60  2013      360  Ручна / Механіка   \n",
       "15                    dizel    1.60  2015      283  Ручна / Механіка   \n",
       "16                    dizel    1.97  2015      296           Автомат   \n",
       "17                   benzin    1.80  2016      155           Автомат   \n",
       "18                   benzin    2.48  2013      277           Автомат   \n",
       "19                   benzin    1.60  2012      208  Ручна / Механіка   \n",
       "20                   benzin    1.40  2013      173           Автомат   \n",
       "21                   benzin    2.50  2017      145           Автомат   \n",
       "22  gaz-propan-butan-benzin    2.48  2012      197           Автомат   \n",
       "23  gaz-propan-butan-benzin    2.50  2013      200           Автомат   \n",
       "24                   benzin    1.80  2016      120           Автомат   \n",
       "25  gaz-propan-butan-benzin    2.50  2012      210           Автомат   \n",
       "26                    dizel    2.00  2016      223           Автомат   \n",
       "27                    dizel    1.60  2013      217  Ручна / Механіка   \n",
       "28                   benzin    2.50  2013      202           Автомат   \n",
       "29  gaz-propan-butan-benzin    2.50  2012      320           Автомат   \n",
       "30                    dizel    2.00  2012      270  Ручна / Механіка   \n",
       "\n",
       "     bodytype  \n",
       "0   universal  \n",
       "1       sedan  \n",
       "2       sedan  \n",
       "3   universal  \n",
       "4       sedan  \n",
       "5       sedan  \n",
       "6       sedan  \n",
       "7       sedan  \n",
       "8       sedan  \n",
       "9   universal  \n",
       "10      sedan  \n",
       "11  universal  \n",
       "12  universal  \n",
       "13      sedan  \n",
       "14  universal  \n",
       "15  universal  \n",
       "16  universal  \n",
       "17      sedan  \n",
       "18      sedan  \n",
       "19  universal  \n",
       "20  universal  \n",
       "21      sedan  \n",
       "22      sedan  \n",
       "23      sedan  \n",
       "24      sedan  \n",
       "25      sedan  \n",
       "26  universal  \n",
       "27  universal  \n",
       "28      sedan  \n",
       "29      sedan  \n",
       "30      sedan  "
      ]
     },
     "execution_count": 36,
     "metadata": {},
     "output_type": "execute_result"
    }
   ],
   "source": [
    "df"
   ]
  },
  {
   "cell_type": "code",
   "execution_count": 40,
   "metadata": {},
   "outputs": [
    {
     "data": {
      "text/plain": [
       "<Axes: >"
      ]
     },
     "execution_count": 40,
     "metadata": {},
     "output_type": "execute_result"
    },
    {
     "data": {
      "image/png": "[encoded data removed]",
      "text/plain": [
       "<Figure size 500x300 with 2 Axes>"
      ]
     },
     "metadata": {},
     "output_type": "display_data"
    }
   ],
   "source": [
    "import matplotlib.pyplot as plt\n",
    "import seaborn as sns\n",
    "\n",
    "plt.figure(figsize=(5, 3))\n",
    "sns.heatmap(df.corr(numeric_only=True), annot=True, cmap=\"YlGnBu\")"
   ]
  },
  {
   "cell_type": "code",
   "execution_count": 41,
   "metadata": {},
   "outputs": [
    {
     "data": {
      "text/plain": [
       "<seaborn.axisgrid.PairGrid at 0x17ec78cd0>"
      ]
     },
     "execution_count": 41,
     "metadata": {},
     "output_type": "execute_result"
    },
    {
     "data": {
      "image/png": "[encoded data removed]",
      "text/plain": [
       "<Figure size 1000x1000 with 20 Axes>"
      ]
     },
     "metadata": {},
     "output_type": "display_data"
    }
   ],
   "source": [
    "sns.pairplot(df)"
   ]
  },
  {
   "cell_type": "code",
   "execution_count": 44,
   "metadata": {},
   "outputs": [
    {
     "data": {
      "application/vnd.plotly.v1+json": {
       "config": {
        "plotlyServerURL": "https://plot.ly"
       },
       "data": [
        {
         "alignmentgroup": "True",
         "bingroup": "x",
         "hovertemplate": "Manufacturer=%{x}<br>count=%{y}<extra></extra>",
         "legendgroup": "",
         "marker": {
          "color": "green",
          "pattern": {
           "shape": ""
          }
         },
         "name": "",
         "offsetgroup": "",
         "orientation": "v",
         "showlegend": false,
         "type": "histogram",
         "x": [
          "volkswagen",
          "toyota",
          "volkswagen",
          "volkswagen",
          "volkswagen",
          "toyota",
          "volkswagen",
          "toyota",
          "volkswagen",
          "volkswagen",
          "toyota",
          "volkswagen",
          "volkswagen",
          "toyota",
          "volkswagen",
          "volkswagen",
          "volkswagen",
          "volkswagen",
          "volkswagen",
          "volkswagen",
          "volkswagen",
          "toyota",
          "volkswagen",
          "volkswagen",
          "volkswagen",
          "volkswagen",
          "volkswagen",
          "volkswagen",
          "volkswagen",
          "volkswagen",
          "volkswagen"
         ],
         "xaxis": "x",
         "yaxis": "y"
        }
       ],
       "layout": {
        "barmode": "relative",
        "legend": {
         "tracegroupgap": 0
        },
        "template": {
         "data": {
          "bar": [
           {
            "error_x": {
             "color": "#2a3f5f"
            },
            "error_y": {
             "color": "#2a3f5f"
            },
            "marker": {
             "line": {
              "color": "#E5ECF6",
              "width": 0.5
             },
             "pattern": {
              "fillmode": "overlay",
              "size": 10,
              "solidity": 0.2
             }
            },
            "type": "bar"
           }
          ],
          "barpolar": [
           {
            "marker": {
             "line": {
              "color": "#E5ECF6",
              "width": 0.5
             },
             "pattern": {
              "fillmode": "overlay",
              "size": 10,
              "solidity": 0.2
             }
            },
            "type": "barpolar"
           }
          ],
          "carpet": [
           {
            "aaxis": {
             "endlinecolor": "#2a3f5f",
             "gridcolor": "white",
             "linecolor": "white",
             "minorgridcolor": "white",
             "startlinecolor": "#2a3f5f"
            },
            "baxis": {
             "endlinecolor": "#2a3f5f",
             "gridcolor": "white",
             "linecolor": "white",
             "minorgridcolor": "white",
             "startlinecolor": "#2a3f5f"
            },
            "type": "carpet"
           }
          ],
          "choropleth": [
           {
            "colorbar": {
             "outlinewidth": 0,
             "ticks": ""
            },
            "type": "choropleth"
           }
          ],
          "contour": [
           {
            "colorbar": {
             "outlinewidth": 0,
             "ticks": ""
            },
            "colorscale": [
             [
              0,
              "#0d0887"
             ],
             [
              0.1111111111111111,
              "#46039f"
             ],
             [
              0.2222222222222222,
              "#7201a8"
             ],
             [
              0.3333333333333333,
              "#9c179e"
             ],
             [
              0.4444444444444444,
              "#bd3786"
             ],
             [
              0.5555555555555556,
              "#d8576b"
             ],
             [
              0.6666666666666666,
              "#ed7953"
             ],
             [
              0.7777777777777778,
              "#fb9f3a"
             ],
             [
              0.8888888888888888,
              "#fdca26"
             ],
             [
              1,
              "#f0f921"
             ]
            ],
            "type": "contour"
           }
          ],
          "contourcarpet": [
           {
            "colorbar": {
             "outlinewidth": 0,
             "ticks": ""
            },
            "type": "contourcarpet"
           }
          ],
          "heatmap": [
           {
            "colorbar": {
             "outlinewidth": 0,
             "ticks": ""
            },
            "colorscale": [
             [
              0,
              "#0d0887"
             ],
             [
              0.1111111111111111,
              "#46039f"
             ],
             [
              0.2222222222222222,
              "#7201a8"
             ],
             [
              0.3333333333333333,
              "#9c179e"
             ],
             [
              0.4444444444444444,
              "#bd3786"
             ],
             [
              0.5555555555555556,
              "#d8576b"
             ],
             [
              0.6666666666666666,
              "#ed7953"
             ],
             [
              0.7777777777777778,
              "#fb9f3a"
             ],
             [
              0.8888888888888888,
              "#fdca26"
             ],
             [
              1,
              "#f0f921"
             ]
            ],
            "type": "heatmap"
           }
          ],
          "heatmapgl": [
           {
            "colorbar": {
             "outlinewidth": 0,
             "ticks": ""
            },
            "colorscale": [
             [
              0,
              "#0d0887"
             ],
             [
              0.1111111111111111,
              "#46039f"
             ],
             [
              0.2222222222222222,
              "#7201a8"
             ],
             [
              0.3333333333333333,
              "#9c179e"
             ],
             [
              0.4444444444444444,
              "#bd3786"
             ],
             [
              0.5555555555555556,
              "#d8576b"
             ],
             [
              0.6666666666666666,
              "#ed7953"
             ],
             [
              0.7777777777777778,
              "#fb9f3a"
             ],
             [
              0.8888888888888888,
              "#fdca26"
             ],
             [
              1,
              "#f0f921"
             ]
            ],
            "type": "heatmapgl"
           }
          ],
          "histogram": [
           {
            "marker": {
             "pattern": {
              "fillmode": "overlay",
              "size": 10,
              "solidity": 0.2
             }
            },
            "type": "histogram"
           }
          ],
          "histogram2d": [
           {
            "colorbar": {
             "outlinewidth": 0,
             "ticks": ""
            },
            "colorscale": [
             [
              0,
              "#0d0887"
             ],
             [
              0.1111111111111111,
              "#46039f"
             ],
             [
              0.2222222222222222,
              "#7201a8"
             ],
             [
              0.3333333333333333,
              "#9c179e"
             ],
             [
              0.4444444444444444,
              "#bd3786"
             ],
             [
              0.5555555555555556,
              "#d8576b"
             ],
             [
              0.6666666666666666,
              "#ed7953"
             ],
             [
              0.7777777777777778,
              "#fb9f3a"
             ],
             [
              0.8888888888888888,
              "#fdca26"
             ],
             [
              1,
              "#f0f921"
             ]
            ],
            "type": "histogram2d"
           }
          ],
          "histogram2dcontour": [
           {
            "colorbar": {
             "outlinewidth": 0,
             "ticks": ""
            },
            "colorscale": [
             [
              0,
              "#0d0887"
             ],
             [
              0.1111111111111111,
              "#46039f"
             ],
             [
              0.2222222222222222,
              "#7201a8"
             ],
             [
              0.3333333333333333,
              "#9c179e"
             ],
             [
              0.4444444444444444,
              "#bd3786"
             ],
             [
              0.5555555555555556,
              "#d8576b"
             ],
             [
              0.6666666666666666,
              "#ed7953"
             ],
             [
              0.7777777777777778,
              "#fb9f3a"
             ],
             [
              0.8888888888888888,
              "#fdca26"
             ],
             [
              1,
              "#f0f921"
             ]
            ],
            "type": "histogram2dcontour"
           }
          ],
          "mesh3d": [
           {
            "colorbar": {
             "outlinewidth": 0,
             "ticks": ""
            },
            "type": "mesh3d"
           }
          ],
          "parcoords": [
           {
            "line": {
             "colorbar": {
              "outlinewidth": 0,
              "ticks": ""
             }
            },
            "type": "parcoords"
           }
          ],
          "pie": [
           {
            "automargin": true,
            "type": "pie"
           }
          ],
          "scatter": [
           {
            "fillpattern": {
             "fillmode": "overlay",
             "size": 10,
             "solidity": 0.2
            },
            "type": "scatter"
           }
          ],
          "scatter3d": [
           {
            "line": {
             "colorbar": {
              "outlinewidth": 0,
              "ticks": ""
             }
            },
            "marker": {
             "colorbar": {
              "outlinewidth": 0,
              "ticks": ""
             }
            },
            "type": "scatter3d"
           }
          ],
          "scattercarpet": [
           {
            "marker": {
             "colorbar": {
              "outlinewidth": 0,
              "ticks": ""
             }
            },
            "type": "scattercarpet"
           }
          ],
          "scattergeo": [
           {
            "marker": {
             "colorbar": {
              "outlinewidth": 0,
              "ticks": ""
             }
            },
            "type": "scattergeo"
           }
          ],
          "scattergl": [
           {
            "marker": {
             "colorbar": {
              "outlinewidth": 0,
              "ticks": ""
             }
            },
            "type": "scattergl"
           }
          ],
          "scattermapbox": [
           {
            "marker": {
             "colorbar": {
              "outlinewidth": 0,
              "ticks": ""
             }
            },
            "type": "scattermapbox"
           }
          ],
          "scatterpolar": [
           {
            "marker": {
             "colorbar": {
              "outlinewidth": 0,
              "ticks": ""
             }
            },
            "type": "scatterpolar"
           }
          ],
          "scatterpolargl": [
           {
            "marker": {
             "colorbar": {
              "outlinewidth": 0,
              "ticks": ""
             }
            },
            "type": "scatterpolargl"
           }
          ],
          "scatterternary": [
           {
            "marker": {
             "colorbar": {
              "outlinewidth": 0,
              "ticks": ""
             }
            },
            "type": "scatterternary"
           }
          ],
          "surface": [
           {
            "colorbar": {
             "outlinewidth": 0,
             "ticks": ""
            },
            "colorscale": [
             [
              0,
              "#0d0887"
             ],
             [
              0.1111111111111111,
              "#46039f"
             ],
             [
              0.2222222222222222,
              "#7201a8"
             ],
             [
              0.3333333333333333,
              "#9c179e"
             ],
             [
              0.4444444444444444,
              "#bd3786"
             ],
             [
              0.5555555555555556,
              "#d8576b"
             ],
             [
              0.6666666666666666,
              "#ed7953"
             ],
             [
              0.7777777777777778,
              "#fb9f3a"
             ],
             [
              0.8888888888888888,
              "#fdca26"
             ],
             [
              1,
              "#f0f921"
             ]
            ],
            "type": "surface"
           }
          ],
          "table": [
           {
            "cells": {
             "fill": {
              "color": "#EBF0F8"
             },
             "line": {
              "color": "white"
             }
            },
            "header": {
             "fill": {
              "color": "#C8D4E3"
             },
             "line": {
              "color": "white"
             }
            },
            "type": "table"
           }
          ]
         },
         "layout": {
          "annotationdefaults": {
           "arrowcolor": "#2a3f5f",
           "arrowhead": 0,
           "arrowwidth": 1
          },
          "autotypenumbers": "strict",
          "coloraxis": {
           "colorbar": {
            "outlinewidth": 0,
            "ticks": ""
           }
          },
          "colorscale": {
           "diverging": [
            [
             0,
             "#8e0152"
            ],
            [
             0.1,
             "#c51b7d"
            ],
            [
             0.2,
             "#de77ae"
            ],
            [
             0.3,
             "#f1b6da"
            ],
            [
             0.4,
             "#fde0ef"
            ],
            [
             0.5,
             "#f7f7f7"
            ],
            [
             0.6,
             "#e6f5d0"
            ],
            [
             0.7,
             "#b8e186"
            ],
            [
             0.8,
             "#7fbc41"
            ],
            [
             0.9,
             "#4d9221"
            ],
            [
             1,
             "#276419"
            ]
           ],
           "sequential": [
            [
             0,
             "#0d0887"
            ],
            [
             0.1111111111111111,
             "#46039f"
            ],
            [
             0.2222222222222222,
             "#7201a8"
            ],
            [
             0.3333333333333333,
             "#9c179e"
            ],
            [
             0.4444444444444444,
             "#bd3786"
            ],
            [
             0.5555555555555556,
             "#d8576b"
            ],
            [
             0.6666666666666666,
             "#ed7953"
            ],
            [
             0.7777777777777778,
             "#fb9f3a"
            ],
            [
             0.8888888888888888,
             "#fdca26"
            ],
            [
             1,
             "#f0f921"
            ]
           ],
           "sequentialminus": [
            [
             0,
             "#0d0887"
            ],
            [
             0.1111111111111111,
             "#46039f"
            ],
            [
             0.2222222222222222,
             "#7201a8"
            ],
            [
             0.3333333333333333,
             "#9c179e"
            ],
            [
             0.4444444444444444,
             "#bd3786"
            ],
            [
             0.5555555555555556,
             "#d8576b"
            ],
            [
             0.6666666666666666,
             "#ed7953"
            ],
            [
             0.7777777777777778,
             "#fb9f3a"
            ],
            [
             0.8888888888888888,
             "#fdca26"
            ],
            [
             1,
             "#f0f921"
            ]
           ]
          },
          "colorway": [
           "#636efa",
           "#EF553B",
           "#00cc96",
           "#ab63fa",
           "#FFA15A",
           "#19d3f3",
           "#FF6692",
           "#B6E880",
           "#FF97FF",
           "#FECB52"
          ],
          "font": {
           "color": "#2a3f5f"
          },
          "geo": {
           "bgcolor": "white",
           "lakecolor": "white",
           "landcolor": "#E5ECF6",
           "showlakes": true,
           "showland": true,
           "subunitcolor": "white"
          },
          "hoverlabel": {
           "align": "left"
          },
          "hovermode": "closest",
          "mapbox": {
           "style": "light"
          },
          "paper_bgcolor": "white",
          "plot_bgcolor": "#E5ECF6",
          "polar": {
           "angularaxis": {
            "gridcolor": "white",
            "linecolor": "white",
            "ticks": ""
           },
           "bgcolor": "#E5ECF6",
           "radialaxis": {
            "gridcolor": "white",
            "linecolor": "white",
            "ticks": ""
           }
          },
          "scene": {
           "xaxis": {
            "backgroundcolor": "#E5ECF6",
            "gridcolor": "white",
            "gridwidth": 2,
            "linecolor": "white",
            "showbackground": true,
            "ticks": "",
            "zerolinecolor": "white"
           },
           "yaxis": {
            "backgroundcolor": "#E5ECF6",
            "gridcolor": "white",
            "gridwidth": 2,
            "linecolor": "white",
            "showbackground": true,
            "ticks": "",
            "zerolinecolor": "white"
           },
           "zaxis": {
            "backgroundcolor": "#E5ECF6",
            "gridcolor": "white",
            "gridwidth": 2,
            "linecolor": "white",
            "showbackground": true,
            "ticks": "",
            "zerolinecolor": "white"
           }
          },
          "shapedefaults": {
           "line": {
            "color": "#2a3f5f"
           }
          },
          "ternary": {
           "aaxis": {
            "gridcolor": "white",
            "linecolor": "white",
            "ticks": ""
           },
           "baxis": {
            "gridcolor": "white",
            "linecolor": "white",
            "ticks": ""
           },
           "bgcolor": "#E5ECF6",
           "caxis": {
            "gridcolor": "white",
            "linecolor": "white",
            "ticks": ""
           }
          },
          "title": {
           "x": 0.05
          },
          "xaxis": {
           "automargin": true,
           "gridcolor": "white",
           "linecolor": "white",
           "ticks": "",
           "title": {
            "standoff": 15
           },
           "zerolinecolor": "white",
           "zerolinewidth": 2
          },
          "yaxis": {
           "automargin": true,
           "gridcolor": "white",
           "linecolor": "white",
           "ticks": "",
           "title": {
            "standoff": 15
           },
           "zerolinecolor": "white",
           "zerolinewidth": 2
          }
         }
        },
        "title": {
         "text": "Manufacturer of the car"
        },
        "xaxis": {
         "anchor": "y",
         "domain": [
          0,
          1
         ],
         "title": {
          "text": "Manufacturer"
         }
        },
        "yaxis": {
         "anchor": "x",
         "domain": [
          0,
          1
         ],
         "title": {
          "text": "count"
         }
        }
       }
      }
     },
     "metadata": {},
     "output_type": "display_data"
    }
   ],
   "source": [
    "import plotly.express as px\n",
    "\n",
    "fig = px.histogram(df, x=\"brand\", \n",
    "                   labels= {\"brand\": \"Manufacturer\"},\n",
    "                   title=\"Manufacturer of the car\",\n",
    "                   color_discrete_sequence=[\"green\"])\n",
    "\n",
    "fig.show()\n"
   ]
  },
  {
   "cell_type": "code",
   "execution_count": 47,
   "metadata": {},
   "outputs": [
    {
     "data": {
      "application/vnd.plotly.v1+json": {
       "config": {
        "plotlyServerURL": "https://plot.ly"
       },
       "data": [
        {
         "alignmentgroup": "True",
         "bingroup": "x",
         "hovertemplate": "Model=%{x}<br>count=%{y}<extra></extra>",
         "legendgroup": "",
         "marker": {
          "color": "blue",
          "pattern": {
           "shape": ""
          }
         },
         "name": "",
         "offsetgroup": "",
         "orientation": "v",
         "showlegend": false,
         "type": "histogram",
         "x": [
          "Volkswagen Passat",
          "Toyota Camry",
          "Volkswagen Passat",
          "Volkswagen Passat",
          "Volkswagen Passat",
          "Toyota Camry",
          "Volkswagen Passat",
          "Toyota Yaris",
          "Volkswagen Passat",
          "Volkswagen Passat",
          "Toyota Avensis",
          "Volkswagen Golf",
          "Volkswagen Golf",
          "Toyota Avensis",
          "Volkswagen Golf",
          "Volkswagen Golf",
          "Volkswagen Passat",
          "Volkswagen Passat",
          "Volkswagen Passat",
          "Volkswagen Golf",
          "Volkswagen Golf",
          "Toyota Camry",
          "Volkswagen Passat",
          "Volkswagen Passat",
          "Volkswagen Passat",
          "Volkswagen Passat",
          "Volkswagen Passat",
          "Volkswagen Passat",
          "Volkswagen Passat",
          "Volkswagen Passat",
          "Volkswagen Passat"
         ],
         "xaxis": "x",
         "yaxis": "y"
        }
       ],
       "layout": {
        "barmode": "relative",
        "legend": {
         "tracegroupgap": 0
        },
        "template": {
         "data": {
          "bar": [
           {
            "error_x": {
             "color": "#2a3f5f"
            },
            "error_y": {
             "color": "#2a3f5f"
            },
            "marker": {
             "line": {
              "color": "#E5ECF6",
              "width": 0.5
             },
             "pattern": {
              "fillmode": "overlay",
              "size": 10,
              "solidity": 0.2
             }
            },
            "type": "bar"
           }
          ],
          "barpolar": [
           {
            "marker": {
             "line": {
              "color": "#E5ECF6",
              "width": 0.5
             },
             "pattern": {
              "fillmode": "overlay",
              "size": 10,
              "solidity": 0.2
             }
            },
            "type": "barpolar"
           }
          ],
          "carpet": [
           {
            "aaxis": {
             "endlinecolor": "#2a3f5f",
             "gridcolor": "white",
             "linecolor": "white",
             "minorgridcolor": "white",
             "startlinecolor": "#2a3f5f"
            },
            "baxis": {
             "endlinecolor": "#2a3f5f",
             "gridcolor": "white",
             "linecolor": "white",
             "minorgridcolor": "white",
             "startlinecolor": "#2a3f5f"
            },
            "type": "carpet"
           }
          ],
          "choropleth": [
           {
            "colorbar": {
             "outlinewidth": 0,
             "ticks": ""
            },
            "type": "choropleth"
           }
          ],
          "contour": [
           {
            "colorbar": {
             "outlinewidth": 0,
             "ticks": ""
            },
            "colorscale": [
             [
              0,
              "#0d0887"
             ],
             [
              0.1111111111111111,
              "#46039f"
             ],
             [
              0.2222222222222222,
              "#7201a8"
             ],
             [
              0.3333333333333333,
              "#9c179e"
             ],
             [
              0.4444444444444444,
              "#bd3786"
             ],
             [
              0.5555555555555556,
              "#d8576b"
             ],
             [
              0.6666666666666666,
              "#ed7953"
             ],
             [
              0.7777777777777778,
              "#fb9f3a"
             ],
             [
              0.8888888888888888,
              "#fdca26"
             ],
             [
              1,
              "#f0f921"
             ]
            ],
            "type": "contour"
           }
          ],
          "contourcarpet": [
           {
            "colorbar": {
             "outlinewidth": 0,
             "ticks": ""
            },
            "type": "contourcarpet"
           }
          ],
          "heatmap": [
           {
            "colorbar": {
             "outlinewidth": 0,
             "ticks": ""
            },
            "colorscale": [
             [
              0,
              "#0d0887"
             ],
             [
              0.1111111111111111,
              "#46039f"
             ],
             [
              0.2222222222222222,
              "#7201a8"
             ],
             [
              0.3333333333333333,
              "#9c179e"
             ],
             [
              0.4444444444444444,
              "#bd3786"
             ],
             [
              0.5555555555555556,
              "#d8576b"
             ],
             [
              0.6666666666666666,
              "#ed7953"
             ],
             [
              0.7777777777777778,
              "#fb9f3a"
             ],
             [
              0.8888888888888888,
              "#fdca26"
             ],
             [
              1,
              "#f0f921"
             ]
            ],
            "type": "heatmap"
           }
          ],
          "heatmapgl": [
           {
            "colorbar": {
             "outlinewidth": 0,
             "ticks": ""
            },
            "colorscale": [
             [
              0,
              "#0d0887"
             ],
             [
              0.1111111111111111,
              "#46039f"
             ],
             [
              0.2222222222222222,
              "#7201a8"
             ],
             [
              0.3333333333333333,
              "#9c179e"
             ],
             [
              0.4444444444444444,
              "#bd3786"
             ],
             [
              0.5555555555555556,
              "#d8576b"
             ],
             [
              0.6666666666666666,
              "#ed7953"
             ],
             [
              0.7777777777777778,
              "#fb9f3a"
             ],
             [
              0.8888888888888888,
              "#fdca26"
             ],
             [
              1,
              "#f0f921"
             ]
            ],
            "type": "heatmapgl"
           }
          ],
          "histogram": [
           {
            "marker": {
             "pattern": {
              "fillmode": "overlay",
              "size": 10,
              "solidity": 0.2
             }
            },
            "type": "histogram"
           }
          ],
          "histogram2d": [
           {
            "colorbar": {
             "outlinewidth": 0,
             "ticks": ""
            },
            "colorscale": [
             [
              0,
              "#0d0887"
             ],
             [
              0.1111111111111111,
              "#46039f"
             ],
             [
              0.2222222222222222,
              "#7201a8"
             ],
             [
              0.3333333333333333,
              "#9c179e"
             ],
             [
              0.4444444444444444,
              "#bd3786"
             ],
             [
              0.5555555555555556,
              "#d8576b"
             ],
             [
              0.6666666666666666,
              "#ed7953"
             ],
             [
              0.7777777777777778,
              "#fb9f3a"
             ],
             [
              0.8888888888888888,
              "#fdca26"
             ],
             [
              1,
              "#f0f921"
             ]
            ],
            "type": "histogram2d"
           }
          ],
          "histogram2dcontour": [
           {
            "colorbar": {
             "outlinewidth": 0,
             "ticks": ""
            },
            "colorscale": [
             [
              0,
              "#0d0887"
             ],
             [
              0.1111111111111111,
              "#46039f"
             ],
             [
              0.2222222222222222,
              "#7201a8"
             ],
             [
              0.3333333333333333,
              "#9c179e"
             ],
             [
              0.4444444444444444,
              "#bd3786"
             ],
             [
              0.5555555555555556,
              "#d8576b"
             ],
             [
              0.6666666666666666,
              "#ed7953"
             ],
             [
              0.7777777777777778,
              "#fb9f3a"
             ],
             [
              0.8888888888888888,
              "#fdca26"
             ],
             [
              1,
              "#f0f921"
             ]
            ],
            "type": "histogram2dcontour"
           }
          ],
          "mesh3d": [
           {
            "colorbar": {
             "outlinewidth": 0,
             "ticks": ""
            },
            "type": "mesh3d"
           }
          ],
          "parcoords": [
           {
            "line": {
             "colorbar": {
              "outlinewidth": 0,
              "ticks": ""
             }
            },
            "type": "parcoords"
           }
          ],
          "pie": [
           {
            "automargin": true,
            "type": "pie"
           }
          ],
          "scatter": [
           {
            "fillpattern": {
             "fillmode": "overlay",
             "size": 10,
             "solidity": 0.2
            },
            "type": "scatter"
           }
          ],
          "scatter3d": [
           {
            "line": {
             "colorbar": {
              "outlinewidth": 0,
              "ticks": ""
             }
            },
            "marker": {
             "colorbar": {
              "outlinewidth": 0,
              "ticks": ""
             }
            },
            "type": "scatter3d"
           }
          ],
          "scattercarpet": [
           {
            "marker": {
             "colorbar": {
              "outlinewidth": 0,
              "ticks": ""
             }
            },
            "type": "scattercarpet"
           }
          ],
          "scattergeo": [
           {
            "marker": {
             "colorbar": {
              "outlinewidth": 0,
              "ticks": ""
             }
            },
            "type": "scattergeo"
           }
          ],
          "scattergl": [
           {
            "marker": {
             "colorbar": {
              "outlinewidth": 0,
              "ticks": ""
             }
            },
            "type": "scattergl"
           }
          ],
          "scattermapbox": [
           {
            "marker": {
             "colorbar": {
              "outlinewidth": 0,
              "ticks": ""
             }
            },
            "type": "scattermapbox"
           }
          ],
          "scatterpolar": [
           {
            "marker": {
             "colorbar": {
              "outlinewidth": 0,
              "ticks": ""
             }
            },
            "type": "scatterpolar"
           }
          ],
          "scatterpolargl": [
           {
            "marker": {
             "colorbar": {
              "outlinewidth": 0,
              "ticks": ""
             }
            },
            "type": "scatterpolargl"
           }
          ],
          "scatterternary": [
           {
            "marker": {
             "colorbar": {
              "outlinewidth": 0,
              "ticks": ""
             }
            },
            "type": "scatterternary"
           }
          ],
          "surface": [
           {
            "colorbar": {
             "outlinewidth": 0,
             "ticks": ""
            },
            "colorscale": [
             [
              0,
              "#0d0887"
             ],
             [
              0.1111111111111111,
              "#46039f"
             ],
             [
              0.2222222222222222,
              "#7201a8"
             ],
             [
              0.3333333333333333,
              "#9c179e"
             ],
             [
              0.4444444444444444,
              "#bd3786"
             ],
             [
              0.5555555555555556,
              "#d8576b"
             ],
             [
              0.6666666666666666,
              "#ed7953"
             ],
             [
              0.7777777777777778,
              "#fb9f3a"
             ],
             [
              0.8888888888888888,
              "#fdca26"
             ],
             [
              1,
              "#f0f921"
             ]
            ],
            "type": "surface"
           }
          ],
          "table": [
           {
            "cells": {
             "fill": {
              "color": "#EBF0F8"
             },
             "line": {
              "color": "white"
             }
            },
            "header": {
             "fill": {
              "color": "#C8D4E3"
             },
             "line": {
              "color": "white"
             }
            },
            "type": "table"
           }
          ]
         },
         "layout": {
          "annotationdefaults": {
           "arrowcolor": "#2a3f5f",
           "arrowhead": 0,
           "arrowwidth": 1
          },
          "autotypenumbers": "strict",
          "coloraxis": {
           "colorbar": {
            "outlinewidth": 0,
            "ticks": ""
           }
          },
          "colorscale": {
           "diverging": [
            [
             0,
             "#8e0152"
            ],
            [
             0.1,
             "#c51b7d"
            ],
            [
             0.2,
             "#de77ae"
            ],
            [
             0.3,
             "#f1b6da"
            ],
            [
             0.4,
             "#fde0ef"
            ],
            [
             0.5,
             "#f7f7f7"
            ],
            [
             0.6,
             "#e6f5d0"
            ],
            [
             0.7,
             "#b8e186"
            ],
            [
             0.8,
             "#7fbc41"
            ],
            [
             0.9,
             "#4d9221"
            ],
            [
             1,
             "#276419"
            ]
           ],
           "sequential": [
            [
             0,
             "#0d0887"
            ],
            [
             0.1111111111111111,
             "#46039f"
            ],
            [
             0.2222222222222222,
             "#7201a8"
            ],
            [
             0.3333333333333333,
             "#9c179e"
            ],
            [
             0.4444444444444444,
             "#bd3786"
            ],
            [
             0.5555555555555556,
             "#d8576b"
            ],
            [
             0.6666666666666666,
             "#ed7953"
            ],
            [
             0.7777777777777778,
             "#fb9f3a"
            ],
            [
             0.8888888888888888,
             "#fdca26"
            ],
            [
             1,
             "#f0f921"
            ]
           ],
           "sequentialminus": [
            [
             0,
             "#0d0887"
            ],
            [
             0.1111111111111111,
             "#46039f"
            ],
            [
             0.2222222222222222,
             "#7201a8"
            ],
            [
             0.3333333333333333,
             "#9c179e"
            ],
            [
             0.4444444444444444,
             "#bd3786"
            ],
            [
             0.5555555555555556,
             "#d8576b"
            ],
            [
             0.6666666666666666,
             "#ed7953"
            ],
            [
             0.7777777777777778,
             "#fb9f3a"
            ],
            [
             0.8888888888888888,
             "#fdca26"
            ],
            [
             1,
             "#f0f921"
            ]
           ]
          },
          "colorway": [
           "#636efa",
           "#EF553B",
           "#00cc96",
           "#ab63fa",
           "#FFA15A",
           "#19d3f3",
           "#FF6692",
           "#B6E880",
           "#FF97FF",
           "#FECB52"
          ],
          "font": {
           "color": "#2a3f5f"
          },
          "geo": {
           "bgcolor": "white",
           "lakecolor": "white",
           "landcolor": "#E5ECF6",
           "showlakes": true,
           "showland": true,
           "subunitcolor": "white"
          },
          "hoverlabel": {
           "align": "left"
          },
          "hovermode": "closest",
          "mapbox": {
           "style": "light"
          },
          "paper_bgcolor": "white",
          "plot_bgcolor": "#E5ECF6",
          "polar": {
           "angularaxis": {
            "gridcolor": "white",
            "linecolor": "white",
            "ticks": ""
           },
           "bgcolor": "#E5ECF6",
           "radialaxis": {
            "gridcolor": "white",
            "linecolor": "white",
            "ticks": ""
           }
          },
          "scene": {
           "xaxis": {
            "backgroundcolor": "#E5ECF6",
            "gridcolor": "white",
            "gridwidth": 2,
            "linecolor": "white",
            "showbackground": true,
            "ticks": "",
            "zerolinecolor": "white"
           },
           "yaxis": {
            "backgroundcolor": "#E5ECF6",
            "gridcolor": "white",
            "gridwidth": 2,
            "linecolor": "white",
            "showbackground": true,
            "ticks": "",
            "zerolinecolor": "white"
           },
           "zaxis": {
            "backgroundcolor": "#E5ECF6",
            "gridcolor": "white",
            "gridwidth": 2,
            "linecolor": "white",
            "showbackground": true,
            "ticks": "",
            "zerolinecolor": "white"
           }
          },
          "shapedefaults": {
           "line": {
            "color": "#2a3f5f"
           }
          },
          "ternary": {
           "aaxis": {
            "gridcolor": "white",
            "linecolor": "white",
            "ticks": ""
           },
           "baxis": {
            "gridcolor": "white",
            "linecolor": "white",
            "ticks": ""
           },
           "bgcolor": "#E5ECF6",
           "caxis": {
            "gridcolor": "white",
            "linecolor": "white",
            "ticks": ""
           }
          },
          "title": {
           "x": 0.05
          },
          "xaxis": {
           "automargin": true,
           "gridcolor": "white",
           "linecolor": "white",
           "ticks": "",
           "title": {
            "standoff": 15
           },
           "zerolinecolor": "white",
           "zerolinewidth": 2
          },
          "yaxis": {
           "automargin": true,
           "gridcolor": "white",
           "linecolor": "white",
           "ticks": "",
           "title": {
            "standoff": 15
           },
           "zerolinecolor": "white",
           "zerolinewidth": 2
          }
         }
        },
        "title": {
         "text": "Model of the car"
        },
        "xaxis": {
         "anchor": "y",
         "domain": [
          0,
          1
         ],
         "title": {
          "text": "Model"
         }
        },
        "yaxis": {
         "anchor": "x",
         "domain": [
          0,
          1
         ],
         "title": {
          "text": "count"
         }
        }
       }
      }
     },
     "metadata": {},
     "output_type": "display_data"
    }
   ],
   "source": [
    "fig = px.histogram(df, x=\"model\", \n",
    "                   labels= {\"model\": \"Model\"},\n",
    "                   title=\"Model of the car\",\n",
    "                   color_discrete_sequence=[\"blue\"])\n",
    "\n",
    "fig.show()"
   ]
  },
  {
   "cell_type": "code",
   "execution_count": 48,
   "metadata": {},
   "outputs": [
    {
     "data": {
      "application/vnd.plotly.v1+json": {
       "config": {
        "plotlyServerURL": "https://plot.ly"
       },
       "data": [
        {
         "alignmentgroup": "True",
         "bingroup": "x",
         "hovertemplate": "City=%{x}<br>count=%{y}<extra></extra>",
         "legendgroup": "",
         "marker": {
          "color": "blue",
          "pattern": {
           "shape": ""
          }
         },
         "name": "",
         "offsetgroup": "",
         "orientation": "v",
         "showlegend": false,
         "type": "histogram",
         "x": [
          "Черняхів",
          "Київ",
          "Вінниця",
          "Київ",
          "Ржищів",
          "Вінниця",
          "Бориспіль",
          "Київ",
          "Біла Церква",
          "Житомир",
          "Вінниця",
          "Біла Церква",
          "Тульчин",
          "Житомир",
          "Бровари",
          "Бердичів",
          "Житомир",
          "Київ",
          "Київ",
          "Бердичів",
          "Київ",
          "Київ",
          "Ладижин",
          "Бориспіль",
          "Вінниця",
          "Київ",
          "Київ",
          "Київ",
          "Бровари",
          "Софіївська Борщагівка",
          "Київ"
         ],
         "xaxis": "x",
         "yaxis": "y"
        }
       ],
       "layout": {
        "barmode": "relative",
        "legend": {
         "tracegroupgap": 0
        },
        "template": {
         "data": {
          "bar": [
           {
            "error_x": {
             "color": "#2a3f5f"
            },
            "error_y": {
             "color": "#2a3f5f"
            },
            "marker": {
             "line": {
              "color": "#E5ECF6",
              "width": 0.5
             },
             "pattern": {
              "fillmode": "overlay",
              "size": 10,
              "solidity": 0.2
             }
            },
            "type": "bar"
           }
          ],
          "barpolar": [
           {
            "marker": {
             "line": {
              "color": "#E5ECF6",
              "width": 0.5
             },
             "pattern": {
              "fillmode": "overlay",
              "size": 10,
              "solidity": 0.2
             }
            },
            "type": "barpolar"
           }
          ],
          "carpet": [
           {
            "aaxis": {
             "endlinecolor": "#2a3f5f",
             "gridcolor": "white",
             "linecolor": "white",
             "minorgridcolor": "white",
             "startlinecolor": "#2a3f5f"
            },
            "baxis": {
             "endlinecolor": "#2a3f5f",
             "gridcolor": "white",
             "linecolor": "white",
             "minorgridcolor": "white",
             "startlinecolor": "#2a3f5f"
            },
            "type": "carpet"
           }
          ],
          "choropleth": [
           {
            "colorbar": {
             "outlinewidth": 0,
             "ticks": ""
            },
            "type": "choropleth"
           }
          ],
          "contour": [
           {
            "colorbar": {
             "outlinewidth": 0,
             "ticks": ""
            },
            "colorscale": [
             [
              0,
              "#0d0887"
             ],
             [
              0.1111111111111111,
              "#46039f"
             ],
             [
              0.2222222222222222,
              "#7201a8"
             ],
             [
              0.3333333333333333,
              "#9c179e"
             ],
             [
              0.4444444444444444,
              "#bd3786"
             ],
             [
              0.5555555555555556,
              "#d8576b"
             ],
             [
              0.6666666666666666,
              "#ed7953"
             ],
             [
              0.7777777777777778,
              "#fb9f3a"
             ],
             [
              0.8888888888888888,
              "#fdca26"
             ],
             [
              1,
              "#f0f921"
             ]
            ],
            "type": "contour"
           }
          ],
          "contourcarpet": [
           {
            "colorbar": {
             "outlinewidth": 0,
             "ticks": ""
            },
            "type": "contourcarpet"
           }
          ],
          "heatmap": [
           {
            "colorbar": {
             "outlinewidth": 0,
             "ticks": ""
            },
            "colorscale": [
             [
              0,
              "#0d0887"
             ],
             [
              0.1111111111111111,
              "#46039f"
             ],
             [
              0.2222222222222222,
              "#7201a8"
             ],
             [
              0.3333333333333333,
              "#9c179e"
             ],
             [
              0.4444444444444444,
              "#bd3786"
             ],
             [
              0.5555555555555556,
              "#d8576b"
             ],
             [
              0.6666666666666666,
              "#ed7953"
             ],
             [
              0.7777777777777778,
              "#fb9f3a"
             ],
             [
              0.8888888888888888,
              "#fdca26"
             ],
             [
              1,
              "#f0f921"
             ]
            ],
            "type": "heatmap"
           }
          ],
          "heatmapgl": [
           {
            "colorbar": {
             "outlinewidth": 0,
             "ticks": ""
            },
            "colorscale": [
             [
              0,
              "#0d0887"
             ],
             [
              0.1111111111111111,
              "#46039f"
             ],
             [
              0.2222222222222222,
              "#7201a8"
             ],
             [
              0.3333333333333333,
              "#9c179e"
             ],
             [
              0.4444444444444444,
              "#bd3786"
             ],
             [
              0.5555555555555556,
              "#d8576b"
             ],
             [
              0.6666666666666666,
              "#ed7953"
             ],
             [
              0.7777777777777778,
              "#fb9f3a"
             ],
             [
              0.8888888888888888,
              "#fdca26"
             ],
             [
              1,
              "#f0f921"
             ]
            ],
            "type": "heatmapgl"
           }
          ],
          "histogram": [
           {
            "marker": {
             "pattern": {
              "fillmode": "overlay",
              "size": 10,
              "solidity": 0.2
             }
            },
            "type": "histogram"
           }
          ],
          "histogram2d": [
           {
            "colorbar": {
             "outlinewidth": 0,
             "ticks": ""
            },
            "colorscale": [
             [
              0,
              "#0d0887"
             ],
             [
              0.1111111111111111,
              "#46039f"
             ],
             [
              0.2222222222222222,
              "#7201a8"
             ],
             [
              0.3333333333333333,
              "#9c179e"
             ],
             [
              0.4444444444444444,
              "#bd3786"
             ],
             [
              0.5555555555555556,
              "#d8576b"
             ],
             [
              0.6666666666666666,
              "#ed7953"
             ],
             [
              0.7777777777777778,
              "#fb9f3a"
             ],
             [
              0.8888888888888888,
              "#fdca26"
             ],
             [
              1,
              "#f0f921"
             ]
            ],
            "type": "histogram2d"
           }
          ],
          "histogram2dcontour": [
           {
            "colorbar": {
             "outlinewidth": 0,
             "ticks": ""
            },
            "colorscale": [
             [
              0,
              "#0d0887"
             ],
             [
              0.1111111111111111,
              "#46039f"
             ],
             [
              0.2222222222222222,
              "#7201a8"
             ],
             [
              0.3333333333333333,
              "#9c179e"
             ],
             [
              0.4444444444444444,
              "#bd3786"
             ],
             [
              0.5555555555555556,
              "#d8576b"
             ],
             [
              0.6666666666666666,
              "#ed7953"
             ],
             [
              0.7777777777777778,
              "#fb9f3a"
             ],
             [
              0.8888888888888888,
              "#fdca26"
             ],
             [
              1,
              "#f0f921"
             ]
            ],
            "type": "histogram2dcontour"
           }
          ],
          "mesh3d": [
           {
            "colorbar": {
             "outlinewidth": 0,
             "ticks": ""
            },
            "type": "mesh3d"
           }
          ],
          "parcoords": [
           {
            "line": {
             "colorbar": {
              "outlinewidth": 0,
              "ticks": ""
             }
            },
            "type": "parcoords"
           }
          ],
          "pie": [
           {
            "automargin": true,
            "type": "pie"
           }
          ],
          "scatter": [
           {
            "fillpattern": {
             "fillmode": "overlay",
             "size": 10,
             "solidity": 0.2
            },
            "type": "scatter"
           }
          ],
          "scatter3d": [
           {
            "line": {
             "colorbar": {
              "outlinewidth": 0,
              "ticks": ""
             }
            },
            "marker": {
             "colorbar": {
              "outlinewidth": 0,
              "ticks": ""
             }
            },
            "type": "scatter3d"
           }
          ],
          "scattercarpet": [
           {
            "marker": {
             "colorbar": {
              "outlinewidth": 0,
              "ticks": ""
             }
            },
            "type": "scattercarpet"
           }
          ],
          "scattergeo": [
           {
            "marker": {
             "colorbar": {
              "outlinewidth": 0,
              "ticks": ""
             }
            },
            "type": "scattergeo"
           }
          ],
          "scattergl": [
           {
            "marker": {
             "colorbar": {
              "outlinewidth": 0,
              "ticks": ""
             }
            },
            "type": "scattergl"
           }
          ],
          "scattermapbox": [
           {
            "marker": {
             "colorbar": {
              "outlinewidth": 0,
              "ticks": ""
             }
            },
            "type": "scattermapbox"
           }
          ],
          "scatterpolar": [
           {
            "marker": {
             "colorbar": {
              "outlinewidth": 0,
              "ticks": ""
             }
            },
            "type": "scatterpolar"
           }
          ],
          "scatterpolargl": [
           {
            "marker": {
             "colorbar": {
              "outlinewidth": 0,
              "ticks": ""
             }
            },
            "type": "scatterpolargl"
           }
          ],
          "scatterternary": [
           {
            "marker": {
             "colorbar": {
              "outlinewidth": 0,
              "ticks": ""
             }
            },
            "type": "scatterternary"
           }
          ],
          "surface": [
           {
            "colorbar": {
             "outlinewidth": 0,
             "ticks": ""
            },
            "colorscale": [
             [
              0,
              "#0d0887"
             ],
             [
              0.1111111111111111,
              "#46039f"
             ],
             [
              0.2222222222222222,
              "#7201a8"
             ],
             [
              0.3333333333333333,
              "#9c179e"
             ],
             [
              0.4444444444444444,
              "#bd3786"
             ],
             [
              0.5555555555555556,
              "#d8576b"
             ],
             [
              0.6666666666666666,
              "#ed7953"
             ],
             [
              0.7777777777777778,
              "#fb9f3a"
             ],
             [
              0.8888888888888888,
              "#fdca26"
             ],
             [
              1,
              "#f0f921"
             ]
            ],
            "type": "surface"
           }
          ],
          "table": [
           {
            "cells": {
             "fill": {
              "color": "#EBF0F8"
             },
             "line": {
              "color": "white"
             }
            },
            "header": {
             "fill": {
              "color": "#C8D4E3"
             },
             "line": {
              "color": "white"
             }
            },
            "type": "table"
           }
          ]
         },
         "layout": {
          "annotationdefaults": {
           "arrowcolor": "#2a3f5f",
           "arrowhead": 0,
           "arrowwidth": 1
          },
          "autotypenumbers": "strict",
          "coloraxis": {
           "colorbar": {
            "outlinewidth": 0,
            "ticks": ""
           }
          },
          "colorscale": {
           "diverging": [
            [
             0,
             "#8e0152"
            ],
            [
             0.1,
             "#c51b7d"
            ],
            [
             0.2,
             "#de77ae"
            ],
            [
             0.3,
             "#f1b6da"
            ],
            [
             0.4,
             "#fde0ef"
            ],
            [
             0.5,
             "#f7f7f7"
            ],
            [
             0.6,
             "#e6f5d0"
            ],
            [
             0.7,
             "#b8e186"
            ],
            [
             0.8,
             "#7fbc41"
            ],
            [
             0.9,
             "#4d9221"
            ],
            [
             1,
             "#276419"
            ]
           ],
           "sequential": [
            [
             0,
             "#0d0887"
            ],
            [
             0.1111111111111111,
             "#46039f"
            ],
            [
             0.2222222222222222,
             "#7201a8"
            ],
            [
             0.3333333333333333,
             "#9c179e"
            ],
            [
             0.4444444444444444,
             "#bd3786"
            ],
            [
             0.5555555555555556,
             "#d8576b"
            ],
            [
             0.6666666666666666,
             "#ed7953"
            ],
            [
             0.7777777777777778,
             "#fb9f3a"
            ],
            [
             0.8888888888888888,
             "#fdca26"
            ],
            [
             1,
             "#f0f921"
            ]
           ],
           "sequentialminus": [
            [
             0,
             "#0d0887"
            ],
            [
             0.1111111111111111,
             "#46039f"
            ],
            [
             0.2222222222222222,
             "#7201a8"
            ],
            [
             0.3333333333333333,
             "#9c179e"
            ],
            [
             0.4444444444444444,
             "#bd3786"
            ],
            [
             0.5555555555555556,
             "#d8576b"
            ],
            [
             0.6666666666666666,
             "#ed7953"
            ],
            [
             0.7777777777777778,
             "#fb9f3a"
            ],
            [
             0.8888888888888888,
             "#fdca26"
            ],
            [
             1,
             "#f0f921"
            ]
           ]
          },
          "colorway": [
           "#636efa",
           "#EF553B",
           "#00cc96",
           "#ab63fa",
           "#FFA15A",
           "#19d3f3",
           "#FF6692",
           "#B6E880",
           "#FF97FF",
           "#FECB52"
          ],
          "font": {
           "color": "#2a3f5f"
          },
          "geo": {
           "bgcolor": "white",
           "lakecolor": "white",
           "landcolor": "#E5ECF6",
           "showlakes": true,
           "showland": true,
           "subunitcolor": "white"
          },
          "hoverlabel": {
           "align": "left"
          },
          "hovermode": "closest",
          "mapbox": {
           "style": "light"
          },
          "paper_bgcolor": "white",
          "plot_bgcolor": "#E5ECF6",
          "polar": {
           "angularaxis": {
            "gridcolor": "white",
            "linecolor": "white",
            "ticks": ""
           },
           "bgcolor": "#E5ECF6",
           "radialaxis": {
            "gridcolor": "white",
            "linecolor": "white",
            "ticks": ""
           }
          },
          "scene": {
           "xaxis": {
            "backgroundcolor": "#E5ECF6",
            "gridcolor": "white",
            "gridwidth": 2,
            "linecolor": "white",
            "showbackground": true,
            "ticks": "",
            "zerolinecolor": "white"
           },
           "yaxis": {
            "backgroundcolor": "#E5ECF6",
            "gridcolor": "white",
            "gridwidth": 2,
            "linecolor": "white",
            "showbackground": true,
            "ticks": "",
            "zerolinecolor": "white"
           },
           "zaxis": {
            "backgroundcolor": "#E5ECF6",
            "gridcolor": "white",
            "gridwidth": 2,
            "linecolor": "white",
            "showbackground": true,
            "ticks": "",
            "zerolinecolor": "white"
           }
          },
          "shapedefaults": {
           "line": {
            "color": "#2a3f5f"
           }
          },
          "ternary": {
           "aaxis": {
            "gridcolor": "white",
            "linecolor": "white",
            "ticks": ""
           },
           "baxis": {
            "gridcolor": "white",
            "linecolor": "white",
            "ticks": ""
           },
           "bgcolor": "#E5ECF6",
           "caxis": {
            "gridcolor": "white",
            "linecolor": "white",
            "ticks": ""
           }
          },
          "title": {
           "x": 0.05
          },
          "xaxis": {
           "automargin": true,
           "gridcolor": "white",
           "linecolor": "white",
           "ticks": "",
           "title": {
            "standoff": 15
           },
           "zerolinecolor": "white",
           "zerolinewidth": 2
          },
          "yaxis": {
           "automargin": true,
           "gridcolor": "white",
           "linecolor": "white",
           "ticks": "",
           "title": {
            "standoff": 15
           },
           "zerolinecolor": "white",
           "zerolinewidth": 2
          }
         }
        },
        "title": {
         "text": "City"
        },
        "xaxis": {
         "anchor": "y",
         "domain": [
          0,
          1
         ],
         "title": {
          "text": "City"
         }
        },
        "yaxis": {
         "anchor": "x",
         "domain": [
          0,
          1
         ],
         "title": {
          "text": "count"
         }
        }
       }
      }
     },
     "metadata": {},
     "output_type": "display_data"
    }
   ],
   "source": [
    "fig = px.histogram(df, x=\"city\", \n",
    "                   labels= {\"city\": \"City\"},\n",
    "                   title=\"City\",\n",
    "                   color_discrete_sequence=[\"blue\"])\n",
    "\n",
    "fig.show()"
   ]
  },
  {
   "cell_type": "code",
   "execution_count": 49,
   "metadata": {},
   "outputs": [
    {
     "data": {
      "application/vnd.plotly.v1+json": {
       "config": {
        "plotlyServerURL": "https://plot.ly"
       },
       "data": [
        {
         "alignmentgroup": "True",
         "bingroup": "x",
         "hovertemplate": "Fuel type=%{x}<br>count=%{y}<extra></extra>",
         "legendgroup": "",
         "marker": {
          "color": "blue",
          "pattern": {
           "shape": ""
          }
         },
         "name": "",
         "offsetgroup": "",
         "orientation": "v",
         "showlegend": false,
         "type": "histogram",
         "x": [
          "dizel",
          "benzin",
          "gaz-propan-butan-benzin",
          "dizel",
          "benzin",
          "benzin",
          "benzin",
          "benzin",
          "gaz-propan-butan-benzin",
          "gaz-propan-butan-benzin",
          "benzin",
          "dizel",
          "dizel",
          "benzin",
          "dizel",
          "dizel",
          "dizel",
          "benzin",
          "benzin",
          "benzin",
          "benzin",
          "benzin",
          "gaz-propan-butan-benzin",
          "gaz-propan-butan-benzin",
          "benzin",
          "gaz-propan-butan-benzin",
          "dizel",
          "dizel",
          "benzin",
          "gaz-propan-butan-benzin",
          "dizel"
         ],
         "xaxis": "x",
         "yaxis": "y"
        }
       ],
       "layout": {
        "barmode": "relative",
        "legend": {
         "tracegroupgap": 0
        },
        "template": {
         "data": {
          "bar": [
           {
            "error_x": {
             "color": "#2a3f5f"
            },
            "error_y": {
             "color": "#2a3f5f"
            },
            "marker": {
             "line": {
              "color": "#E5ECF6",
              "width": 0.5
             },
             "pattern": {
              "fillmode": "overlay",
              "size": 10,
              "solidity": 0.2
             }
            },
            "type": "bar"
           }
          ],
          "barpolar": [
           {
            "marker": {
             "line": {
              "color": "#E5ECF6",
              "width": 0.5
             },
             "pattern": {
              "fillmode": "overlay",
              "size": 10,
              "solidity": 0.2
             }
            },
            "type": "barpolar"
           }
          ],
          "carpet": [
           {
            "aaxis": {
             "endlinecolor": "#2a3f5f",
             "gridcolor": "white",
             "linecolor": "white",
             "minorgridcolor": "white",
             "startlinecolor": "#2a3f5f"
            },
            "baxis": {
             "endlinecolor": "#2a3f5f",
             "gridcolor": "white",
             "linecolor": "white",
             "minorgridcolor": "white",
             "startlinecolor": "#2a3f5f"
            },
            "type": "carpet"
           }
          ],
          "choropleth": [
           {
            "colorbar": {
             "outlinewidth": 0,
             "ticks": ""
            },
            "type": "choropleth"
           }
          ],
          "contour": [
           {
            "colorbar": {
             "outlinewidth": 0,
             "ticks": ""
            },
            "colorscale": [
             [
              0,
              "#0d0887"
             ],
             [
              0.1111111111111111,
              "#46039f"
             ],
             [
              0.2222222222222222,
              "#7201a8"
             ],
             [
              0.3333333333333333,
              "#9c179e"
             ],
             [
              0.4444444444444444,
              "#bd3786"
             ],
             [
              0.5555555555555556,
              "#d8576b"
             ],
             [
              0.6666666666666666,
              "#ed7953"
             ],
             [
              0.7777777777777778,
              "#fb9f3a"
             ],
             [
              0.8888888888888888,
              "#fdca26"
             ],
             [
              1,
              "#f0f921"
             ]
            ],
            "type": "contour"
           }
          ],
          "contourcarpet": [
           {
            "colorbar": {
             "outlinewidth": 0,
             "ticks": ""
            },
            "type": "contourcarpet"
           }
          ],
          "heatmap": [
           {
            "colorbar": {
             "outlinewidth": 0,
             "ticks": ""
            },
            "colorscale": [
             [
              0,
              "#0d0887"
             ],
             [
              0.1111111111111111,
              "#46039f"
             ],
             [
              0.2222222222222222,
              "#7201a8"
             ],
             [
              0.3333333333333333,
              "#9c179e"
             ],
             [
              0.4444444444444444,
              "#bd3786"
             ],
             [
              0.5555555555555556,
              "#d8576b"
             ],
             [
              0.6666666666666666,
              "#ed7953"
             ],
             [
              0.7777777777777778,
              "#fb9f3a"
             ],
             [
              0.8888888888888888,
              "#fdca26"
             ],
             [
              1,
              "#f0f921"
             ]
            ],
            "type": "heatmap"
           }
          ],
          "heatmapgl": [
           {
            "colorbar": {
             "outlinewidth": 0,
             "ticks": ""
            },
            "colorscale": [
             [
              0,
              "#0d0887"
             ],
             [
              0.1111111111111111,
              "#46039f"
             ],
             [
              0.2222222222222222,
              "#7201a8"
             ],
             [
              0.3333333333333333,
              "#9c179e"
             ],
             [
              0.4444444444444444,
              "#bd3786"
             ],
             [
              0.5555555555555556,
              "#d8576b"
             ],
             [
              0.6666666666666666,
              "#ed7953"
             ],
             [
              0.7777777777777778,
              "#fb9f3a"
             ],
             [
              0.8888888888888888,
              "#fdca26"
             ],
             [
              1,
              "#f0f921"
             ]
            ],
            "type": "heatmapgl"
           }
          ],
          "histogram": [
           {
            "marker": {
             "pattern": {
              "fillmode": "overlay",
              "size": 10,
              "solidity": 0.2
             }
            },
            "type": "histogram"
           }
          ],
          "histogram2d": [
           {
            "colorbar": {
             "outlinewidth": 0,
             "ticks": ""
            },
            "colorscale": [
             [
              0,
              "#0d0887"
             ],
             [
              0.1111111111111111,
              "#46039f"
             ],
             [
              0.2222222222222222,
              "#7201a8"
             ],
             [
              0.3333333333333333,
              "#9c179e"
             ],
             [
              0.4444444444444444,
              "#bd3786"
             ],
             [
              0.5555555555555556,
              "#d8576b"
             ],
             [
              0.6666666666666666,
              "#ed7953"
             ],
             [
              0.7777777777777778,
              "#fb9f3a"
             ],
             [
              0.8888888888888888,
              "#fdca26"
             ],
             [
              1,
              "#f0f921"
             ]
            ],
            "type": "histogram2d"
           }
          ],
          "histogram2dcontour": [
           {
            "colorbar": {
             "outlinewidth": 0,
             "ticks": ""
            },
            "colorscale": [
             [
              0,
              "#0d0887"
             ],
             [
              0.1111111111111111,
              "#46039f"
             ],
             [
              0.2222222222222222,
              "#7201a8"
             ],
             [
              0.3333333333333333,
              "#9c179e"
             ],
             [
              0.4444444444444444,
              "#bd3786"
             ],
             [
              0.5555555555555556,
              "#d8576b"
             ],
             [
              0.6666666666666666,
              "#ed7953"
             ],
             [
              0.7777777777777778,
              "#fb9f3a"
             ],
             [
              0.8888888888888888,
              "#fdca26"
             ],
             [
              1,
              "#f0f921"
             ]
            ],
            "type": "histogram2dcontour"
           }
          ],
          "mesh3d": [
           {
            "colorbar": {
             "outlinewidth": 0,
             "ticks": ""
            },
            "type": "mesh3d"
           }
          ],
          "parcoords": [
           {
            "line": {
             "colorbar": {
              "outlinewidth": 0,
              "ticks": ""
             }
            },
            "type": "parcoords"
           }
          ],
          "pie": [
           {
            "automargin": true,
            "type": "pie"
           }
          ],
          "scatter": [
           {
            "fillpattern": {
             "fillmode": "overlay",
             "size": 10,
             "solidity": 0.2
            },
            "type": "scatter"
           }
          ],
          "scatter3d": [
           {
            "line": {
             "colorbar": {
              "outlinewidth": 0,
              "ticks": ""
             }
            },
            "marker": {
             "colorbar": {
              "outlinewidth": 0,
              "ticks": ""
             }
            },
            "type": "scatter3d"
           }
          ],
          "scattercarpet": [
           {
            "marker": {
             "colorbar": {
              "outlinewidth": 0,
              "ticks": ""
             }
            },
            "type": "scattercarpet"
           }
          ],
          "scattergeo": [
           {
            "marker": {
             "colorbar": {
              "outlinewidth": 0,
              "ticks": ""
             }
            },
            "type": "scattergeo"
           }
          ],
          "scattergl": [
           {
            "marker": {
             "colorbar": {
              "outlinewidth": 0,
              "ticks": ""
             }
            },
            "type": "scattergl"
           }
          ],
          "scattermapbox": [
           {
            "marker": {
             "colorbar": {
              "outlinewidth": 0,
              "ticks": ""
             }
            },
            "type": "scattermapbox"
           }
          ],
          "scatterpolar": [
           {
            "marker": {
             "colorbar": {
              "outlinewidth": 0,
              "ticks": ""
             }
            },
            "type": "scatterpolar"
           }
          ],
          "scatterpolargl": [
           {
            "marker": {
             "colorbar": {
              "outlinewidth": 0,
              "ticks": ""
             }
            },
            "type": "scatterpolargl"
           }
          ],
          "scatterternary": [
           {
            "marker": {
             "colorbar": {
              "outlinewidth": 0,
              "ticks": ""
             }
            },
            "type": "scatterternary"
           }
          ],
          "surface": [
           {
            "colorbar": {
             "outlinewidth": 0,
             "ticks": ""
            },
            "colorscale": [
             [
              0,
              "#0d0887"
             ],
             [
              0.1111111111111111,
              "#46039f"
             ],
             [
              0.2222222222222222,
              "#7201a8"
             ],
             [
              0.3333333333333333,
              "#9c179e"
             ],
             [
              0.4444444444444444,
              "#bd3786"
             ],
             [
              0.5555555555555556,
              "#d8576b"
             ],
             [
              0.6666666666666666,
              "#ed7953"
             ],
             [
              0.7777777777777778,
              "#fb9f3a"
             ],
             [
              0.8888888888888888,
              "#fdca26"
             ],
             [
              1,
              "#f0f921"
             ]
            ],
            "type": "surface"
           }
          ],
          "table": [
           {
            "cells": {
             "fill": {
              "color": "#EBF0F8"
             },
             "line": {
              "color": "white"
             }
            },
            "header": {
             "fill": {
              "color": "#C8D4E3"
             },
             "line": {
              "color": "white"
             }
            },
            "type": "table"
           }
          ]
         },
         "layout": {
          "annotationdefaults": {
           "arrowcolor": "#2a3f5f",
           "arrowhead": 0,
           "arrowwidth": 1
          },
          "autotypenumbers": "strict",
          "coloraxis": {
           "colorbar": {
            "outlinewidth": 0,
            "ticks": ""
           }
          },
          "colorscale": {
           "diverging": [
            [
             0,
             "#8e0152"
            ],
            [
             0.1,
             "#c51b7d"
            ],
            [
             0.2,
             "#de77ae"
            ],
            [
             0.3,
             "#f1b6da"
            ],
            [
             0.4,
             "#fde0ef"
            ],
            [
             0.5,
             "#f7f7f7"
            ],
            [
             0.6,
             "#e6f5d0"
            ],
            [
             0.7,
             "#b8e186"
            ],
            [
             0.8,
             "#7fbc41"
            ],
            [
             0.9,
             "#4d9221"
            ],
            [
             1,
             "#276419"
            ]
           ],
           "sequential": [
            [
             0,
             "#0d0887"
            ],
            [
             0.1111111111111111,
             "#46039f"
            ],
            [
             0.2222222222222222,
             "#7201a8"
            ],
            [
             0.3333333333333333,
             "#9c179e"
            ],
            [
             0.4444444444444444,
             "#bd3786"
            ],
            [
             0.5555555555555556,
             "#d8576b"
            ],
            [
             0.6666666666666666,
             "#ed7953"
            ],
            [
             0.7777777777777778,
             "#fb9f3a"
            ],
            [
             0.8888888888888888,
             "#fdca26"
            ],
            [
             1,
             "#f0f921"
            ]
           ],
           "sequentialminus": [
            [
             0,
             "#0d0887"
            ],
            [
             0.1111111111111111,
             "#46039f"
            ],
            [
             0.2222222222222222,
             "#7201a8"
            ],
            [
             0.3333333333333333,
             "#9c179e"
            ],
            [
             0.4444444444444444,
             "#bd3786"
            ],
            [
             0.5555555555555556,
             "#d8576b"
            ],
            [
             0.6666666666666666,
             "#ed7953"
            ],
            [
             0.7777777777777778,
             "#fb9f3a"
            ],
            [
             0.8888888888888888,
             "#fdca26"
            ],
            [
             1,
             "#f0f921"
            ]
           ]
          },
          "colorway": [
           "#636efa",
           "#EF553B",
           "#00cc96",
           "#ab63fa",
           "#FFA15A",
           "#19d3f3",
           "#FF6692",
           "#B6E880",
           "#FF97FF",
           "#FECB52"
          ],
          "font": {
           "color": "#2a3f5f"
          },
          "geo": {
           "bgcolor": "white",
           "lakecolor": "white",
           "landcolor": "#E5ECF6",
           "showlakes": true,
           "showland": true,
           "subunitcolor": "white"
          },
          "hoverlabel": {
           "align": "left"
          },
          "hovermode": "closest",
          "mapbox": {
           "style": "light"
          },
          "paper_bgcolor": "white",
          "plot_bgcolor": "#E5ECF6",
          "polar": {
           "angularaxis": {
            "gridcolor": "white",
            "linecolor": "white",
            "ticks": ""
           },
           "bgcolor": "#E5ECF6",
           "radialaxis": {
            "gridcolor": "white",
            "linecolor": "white",
            "ticks": ""
           }
          },
          "scene": {
           "xaxis": {
            "backgroundcolor": "#E5ECF6",
            "gridcolor": "white",
            "gridwidth": 2,
            "linecolor": "white",
            "showbackground": true,
            "ticks": "",
            "zerolinecolor": "white"
           },
           "yaxis": {
            "backgroundcolor": "#E5ECF6",
            "gridcolor": "white",
            "gridwidth": 2,
            "linecolor": "white",
            "showbackground": true,
            "ticks": "",
            "zerolinecolor": "white"
           },
           "zaxis": {
            "backgroundcolor": "#E5ECF6",
            "gridcolor": "white",
            "gridwidth": 2,
            "linecolor": "white",
            "showbackground": true,
            "ticks": "",
            "zerolinecolor": "white"
           }
          },
          "shapedefaults": {
           "line": {
            "color": "#2a3f5f"
           }
          },
          "ternary": {
           "aaxis": {
            "gridcolor": "white",
            "linecolor": "white",
            "ticks": ""
           },
           "baxis": {
            "gridcolor": "white",
            "linecolor": "white",
            "ticks": ""
           },
           "bgcolor": "#E5ECF6",
           "caxis": {
            "gridcolor": "white",
            "linecolor": "white",
            "ticks": ""
           }
          },
          "title": {
           "x": 0.05
          },
          "xaxis": {
           "automargin": true,
           "gridcolor": "white",
           "linecolor": "white",
           "ticks": "",
           "title": {
            "standoff": 15
           },
           "zerolinecolor": "white",
           "zerolinewidth": 2
          },
          "yaxis": {
           "automargin": true,
           "gridcolor": "white",
           "linecolor": "white",
           "ticks": "",
           "title": {
            "standoff": 15
           },
           "zerolinecolor": "white",
           "zerolinewidth": 2
          }
         }
        },
        "title": {
         "text": "Fuel type"
        },
        "xaxis": {
         "anchor": "y",
         "domain": [
          0,
          1
         ],
         "title": {
          "text": "Fuel type"
         }
        },
        "yaxis": {
         "anchor": "x",
         "domain": [
          0,
          1
         ],
         "title": {
          "text": "count"
         }
        }
       }
      }
     },
     "metadata": {},
     "output_type": "display_data"
    }
   ],
   "source": [
    "fig = px.histogram(df, x=\"fuel\", \n",
    "                   labels= {\"fuel\": \"Fuel type\"},\n",
    "                   title=\"Fuel type\",\n",
    "                   color_discrete_sequence=[\"blue\"])\n",
    "\n",
    "fig.show()"
   ]
  },
  {
   "cell_type": "code",
   "execution_count": 50,
   "metadata": {},
   "outputs": [
    {
     "data": {
      "application/vnd.plotly.v1+json": {
       "config": {
        "plotlyServerURL": "https://plot.ly"
       },
       "data": [
        {
         "alignmentgroup": "True",
         "bingroup": "x",
         "hovertemplate": "Body=%{x}<br>count=%{y}<extra></extra>",
         "legendgroup": "",
         "marker": {
          "color": "blue",
          "pattern": {
           "shape": ""
          }
         },
         "name": "",
         "offsetgroup": "",
         "orientation": "v",
         "showlegend": false,
         "type": "histogram",
         "x": [
          "universal",
          "sedan",
          "sedan",
          "universal",
          "sedan",
          "sedan",
          "sedan",
          "sedan",
          "sedan",
          "universal",
          "sedan",
          "universal",
          "universal",
          "sedan",
          "universal",
          "universal",
          "universal",
          "sedan",
          "sedan",
          "universal",
          "universal",
          "sedan",
          "sedan",
          "sedan",
          "sedan",
          "sedan",
          "universal",
          "universal",
          "sedan",
          "sedan",
          "sedan"
         ],
         "xaxis": "x",
         "yaxis": "y"
        }
       ],
       "layout": {
        "barmode": "relative",
        "legend": {
         "tracegroupgap": 0
        },
        "template": {
         "data": {
          "bar": [
           {
            "error_x": {
             "color": "#2a3f5f"
            },
            "error_y": {
             "color": "#2a3f5f"
            },
            "marker": {
             "line": {
              "color": "#E5ECF6",
              "width": 0.5
             },
             "pattern": {
              "fillmode": "overlay",
              "size": 10,
              "solidity": 0.2
             }
            },
            "type": "bar"
           }
          ],
          "barpolar": [
           {
            "marker": {
             "line": {
              "color": "#E5ECF6",
              "width": 0.5
             },
             "pattern": {
              "fillmode": "overlay",
              "size": 10,
              "solidity": 0.2
             }
            },
            "type": "barpolar"
           }
          ],
          "carpet": [
           {
            "aaxis": {
             "endlinecolor": "#2a3f5f",
             "gridcolor": "white",
             "linecolor": "white",
             "minorgridcolor": "white",
             "startlinecolor": "#2a3f5f"
            },
            "baxis": {
             "endlinecolor": "#2a3f5f",
             "gridcolor": "white",
             "linecolor": "white",
             "minorgridcolor": "white",
             "startlinecolor": "#2a3f5f"
            },
            "type": "carpet"
           }
          ],
          "choropleth": [
           {
            "colorbar": {
             "outlinewidth": 0,
             "ticks": ""
            },
            "type": "choropleth"
           }
          ],
          "contour": [
           {
            "colorbar": {
             "outlinewidth": 0,
             "ticks": ""
            },
            "colorscale": [
             [
              0,
              "#0d0887"
             ],
             [
              0.1111111111111111,
              "#46039f"
             ],
             [
              0.2222222222222222,
              "#7201a8"
             ],
             [
              0.3333333333333333,
              "#9c179e"
             ],
             [
              0.4444444444444444,
              "#bd3786"
             ],
             [
              0.5555555555555556,
              "#d8576b"
             ],
             [
              0.6666666666666666,
              "#ed7953"
             ],
             [
              0.7777777777777778,
              "#fb9f3a"
             ],
             [
              0.8888888888888888,
              "#fdca26"
             ],
             [
              1,
              "#f0f921"
             ]
            ],
            "type": "contour"
           }
          ],
          "contourcarpet": [
           {
            "colorbar": {
             "outlinewidth": 0,
             "ticks": ""
            },
            "type": "contourcarpet"
           }
          ],
          "heatmap": [
           {
            "colorbar": {
             "outlinewidth": 0,
             "ticks": ""
            },
            "colorscale": [
             [
              0,
              "#0d0887"
             ],
             [
              0.1111111111111111,
              "#46039f"
             ],
             [
              0.2222222222222222,
              "#7201a8"
             ],
             [
              0.3333333333333333,
              "#9c179e"
             ],
             [
              0.4444444444444444,
              "#bd3786"
             ],
             [
              0.5555555555555556,
              "#d8576b"
             ],
             [
              0.6666666666666666,
              "#ed7953"
             ],
             [
              0.7777777777777778,
              "#fb9f3a"
             ],
             [
              0.8888888888888888,
              "#fdca26"
             ],
             [
              1,
              "#f0f921"
             ]
            ],
            "type": "heatmap"
           }
          ],
          "heatmapgl": [
           {
            "colorbar": {
             "outlinewidth": 0,
             "ticks": ""
            },
            "colorscale": [
             [
              0,
              "#0d0887"
             ],
             [
              0.1111111111111111,
              "#46039f"
             ],
             [
              0.2222222222222222,
              "#7201a8"
             ],
             [
              0.3333333333333333,
              "#9c179e"
             ],
             [
              0.4444444444444444,
              "#bd3786"
             ],
             [
              0.5555555555555556,
              "#d8576b"
             ],
             [
              0.6666666666666666,
              "#ed7953"
             ],
             [
              0.7777777777777778,
              "#fb9f3a"
             ],
             [
              0.8888888888888888,
              "#fdca26"
             ],
             [
              1,
              "#f0f921"
             ]
            ],
            "type": "heatmapgl"
           }
          ],
          "histogram": [
           {
            "marker": {
             "pattern": {
              "fillmode": "overlay",
              "size": 10,
              "solidity": 0.2
             }
            },
            "type": "histogram"
           }
          ],
          "histogram2d": [
           {
            "colorbar": {
             "outlinewidth": 0,
             "ticks": ""
            },
            "colorscale": [
             [
              0,
              "#0d0887"
             ],
             [
              0.1111111111111111,
              "#46039f"
             ],
             [
              0.2222222222222222,
              "#7201a8"
             ],
             [
              0.3333333333333333,
              "#9c179e"
             ],
             [
              0.4444444444444444,
              "#bd3786"
             ],
             [
              0.5555555555555556,
              "#d8576b"
             ],
             [
              0.6666666666666666,
              "#ed7953"
             ],
             [
              0.7777777777777778,
              "#fb9f3a"
             ],
             [
              0.8888888888888888,
              "#fdca26"
             ],
             [
              1,
              "#f0f921"
             ]
            ],
            "type": "histogram2d"
           }
          ],
          "histogram2dcontour": [
           {
            "colorbar": {
             "outlinewidth": 0,
             "ticks": ""
            },
            "colorscale": [
             [
              0,
              "#0d0887"
             ],
             [
              0.1111111111111111,
              "#46039f"
             ],
             [
              0.2222222222222222,
              "#7201a8"
             ],
             [
              0.3333333333333333,
              "#9c179e"
             ],
             [
              0.4444444444444444,
              "#bd3786"
             ],
             [
              0.5555555555555556,
              "#d8576b"
             ],
             [
              0.6666666666666666,
              "#ed7953"
             ],
             [
              0.7777777777777778,
              "#fb9f3a"
             ],
             [
              0.8888888888888888,
              "#fdca26"
             ],
             [
              1,
              "#f0f921"
             ]
            ],
            "type": "histogram2dcontour"
           }
          ],
          "mesh3d": [
           {
            "colorbar": {
             "outlinewidth": 0,
             "ticks": ""
            },
            "type": "mesh3d"
           }
          ],
          "parcoords": [
           {
            "line": {
             "colorbar": {
              "outlinewidth": 0,
              "ticks": ""
             }
            },
            "type": "parcoords"
           }
          ],
          "pie": [
           {
            "automargin": true,
            "type": "pie"
           }
          ],
          "scatter": [
           {
            "fillpattern": {
             "fillmode": "overlay",
             "size": 10,
             "solidity": 0.2
            },
            "type": "scatter"
           }
          ],
          "scatter3d": [
           {
            "line": {
             "colorbar": {
              "outlinewidth": 0,
              "ticks": ""
             }
            },
            "marker": {
             "colorbar": {
              "outlinewidth": 0,
              "ticks": ""
             }
            },
            "type": "scatter3d"
           }
          ],
          "scattercarpet": [
           {
            "marker": {
             "colorbar": {
              "outlinewidth": 0,
              "ticks": ""
             }
            },
            "type": "scattercarpet"
           }
          ],
          "scattergeo": [
           {
            "marker": {
             "colorbar": {
              "outlinewidth": 0,
              "ticks": ""
             }
            },
            "type": "scattergeo"
           }
          ],
          "scattergl": [
           {
            "marker": {
             "colorbar": {
              "outlinewidth": 0,
              "ticks": ""
             }
            },
            "type": "scattergl"
           }
          ],
          "scattermapbox": [
           {
            "marker": {
             "colorbar": {
              "outlinewidth": 0,
              "ticks": ""
             }
            },
            "type": "scattermapbox"
           }
          ],
          "scatterpolar": [
           {
            "marker": {
             "colorbar": {
              "outlinewidth": 0,
              "ticks": ""
             }
            },
            "type": "scatterpolar"
           }
          ],
          "scatterpolargl": [
           {
            "marker": {
             "colorbar": {
              "outlinewidth": 0,
              "ticks": ""
             }
            },
            "type": "scatterpolargl"
           }
          ],
          "scatterternary": [
           {
            "marker": {
             "colorbar": {
              "outlinewidth": 0,
              "ticks": ""
             }
            },
            "type": "scatterternary"
           }
          ],
          "surface": [
           {
            "colorbar": {
             "outlinewidth": 0,
             "ticks": ""
            },
            "colorscale": [
             [
              0,
              "#0d0887"
             ],
             [
              0.1111111111111111,
              "#46039f"
             ],
             [
              0.2222222222222222,
              "#7201a8"
             ],
             [
              0.3333333333333333,
              "#9c179e"
             ],
             [
              0.4444444444444444,
              "#bd3786"
             ],
             [
              0.5555555555555556,
              "#d8576b"
             ],
             [
              0.6666666666666666,
              "#ed7953"
             ],
             [
              0.7777777777777778,
              "#fb9f3a"
             ],
             [
              0.8888888888888888,
              "#fdca26"
             ],
             [
              1,
              "#f0f921"
             ]
            ],
            "type": "surface"
           }
          ],
          "table": [
           {
            "cells": {
             "fill": {
              "color": "#EBF0F8"
             },
             "line": {
              "color": "white"
             }
            },
            "header": {
             "fill": {
              "color": "#C8D4E3"
             },
             "line": {
              "color": "white"
             }
            },
            "type": "table"
           }
          ]
         },
         "layout": {
          "annotationdefaults": {
           "arrowcolor": "#2a3f5f",
           "arrowhead": 0,
           "arrowwidth": 1
          },
          "autotypenumbers": "strict",
          "coloraxis": {
           "colorbar": {
            "outlinewidth": 0,
            "ticks": ""
           }
          },
          "colorscale": {
           "diverging": [
            [
             0,
             "#8e0152"
            ],
            [
             0.1,
             "#c51b7d"
            ],
            [
             0.2,
             "#de77ae"
            ],
            [
             0.3,
             "#f1b6da"
            ],
            [
             0.4,
             "#fde0ef"
            ],
            [
             0.5,
             "#f7f7f7"
            ],
            [
             0.6,
             "#e6f5d0"
            ],
            [
             0.7,
             "#b8e186"
            ],
            [
             0.8,
             "#7fbc41"
            ],
            [
             0.9,
             "#4d9221"
            ],
            [
             1,
             "#276419"
            ]
           ],
           "sequential": [
            [
             0,
             "#0d0887"
            ],
            [
             0.1111111111111111,
             "#46039f"
            ],
            [
             0.2222222222222222,
             "#7201a8"
            ],
            [
             0.3333333333333333,
             "#9c179e"
            ],
            [
             0.4444444444444444,
             "#bd3786"
            ],
            [
             0.5555555555555556,
             "#d8576b"
            ],
            [
             0.6666666666666666,
             "#ed7953"
            ],
            [
             0.7777777777777778,
             "#fb9f3a"
            ],
            [
             0.8888888888888888,
             "#fdca26"
            ],
            [
             1,
             "#f0f921"
            ]
           ],
           "sequentialminus": [
            [
             0,
             "#0d0887"
            ],
            [
             0.1111111111111111,
             "#46039f"
            ],
            [
             0.2222222222222222,
             "#7201a8"
            ],
            [
             0.3333333333333333,
             "#9c179e"
            ],
            [
             0.4444444444444444,
             "#bd3786"
            ],
            [
             0.5555555555555556,
             "#d8576b"
            ],
            [
             0.6666666666666666,
             "#ed7953"
            ],
            [
             0.7777777777777778,
             "#fb9f3a"
            ],
            [
             0.8888888888888888,
             "#fdca26"
            ],
            [
             1,
             "#f0f921"
            ]
           ]
          },
          "colorway": [
           "#636efa",
           "#EF553B",
           "#00cc96",
           "#ab63fa",
           "#FFA15A",
           "#19d3f3",
           "#FF6692",
           "#B6E880",
           "#FF97FF",
           "#FECB52"
          ],
          "font": {
           "color": "#2a3f5f"
          },
          "geo": {
           "bgcolor": "white",
           "lakecolor": "white",
           "landcolor": "#E5ECF6",
           "showlakes": true,
           "showland": true,
           "subunitcolor": "white"
          },
          "hoverlabel": {
           "align": "left"
          },
          "hovermode": "closest",
          "mapbox": {
           "style": "light"
          },
          "paper_bgcolor": "white",
          "plot_bgcolor": "#E5ECF6",
          "polar": {
           "angularaxis": {
            "gridcolor": "white",
            "linecolor": "white",
            "ticks": ""
           },
           "bgcolor": "#E5ECF6",
           "radialaxis": {
            "gridcolor": "white",
            "linecolor": "white",
            "ticks": ""
           }
          },
          "scene": {
           "xaxis": {
            "backgroundcolor": "#E5ECF6",
            "gridcolor": "white",
            "gridwidth": 2,
            "linecolor": "white",
            "showbackground": true,
            "ticks": "",
            "zerolinecolor": "white"
           },
           "yaxis": {
            "backgroundcolor": "#E5ECF6",
            "gridcolor": "white",
            "gridwidth": 2,
            "linecolor": "white",
            "showbackground": true,
            "ticks": "",
            "zerolinecolor": "white"
           },
           "zaxis": {
            "backgroundcolor": "#E5ECF6",
            "gridcolor": "white",
            "gridwidth": 2,
            "linecolor": "white",
            "showbackground": true,
            "ticks": "",
            "zerolinecolor": "white"
           }
          },
          "shapedefaults": {
           "line": {
            "color": "#2a3f5f"
           }
          },
          "ternary": {
           "aaxis": {
            "gridcolor": "white",
            "linecolor": "white",
            "ticks": ""
           },
           "baxis": {
            "gridcolor": "white",
            "linecolor": "white",
            "ticks": ""
           },
           "bgcolor": "#E5ECF6",
           "caxis": {
            "gridcolor": "white",
            "linecolor": "white",
            "ticks": ""
           }
          },
          "title": {
           "x": 0.05
          },
          "xaxis": {
           "automargin": true,
           "gridcolor": "white",
           "linecolor": "white",
           "ticks": "",
           "title": {
            "standoff": 15
           },
           "zerolinecolor": "white",
           "zerolinewidth": 2
          },
          "yaxis": {
           "automargin": true,
           "gridcolor": "white",
           "linecolor": "white",
           "ticks": "",
           "title": {
            "standoff": 15
           },
           "zerolinecolor": "white",
           "zerolinewidth": 2
          }
         }
        },
        "title": {
         "text": "Body"
        },
        "xaxis": {
         "anchor": "y",
         "domain": [
          0,
          1
         ],
         "title": {
          "text": "Body"
         }
        },
        "yaxis": {
         "anchor": "x",
         "domain": [
          0,
          1
         ],
         "title": {
          "text": "count"
         }
        }
       }
      }
     },
     "metadata": {},
     "output_type": "display_data"
    }
   ],
   "source": [
    "fig = px.histogram(df, x=\"bodytype\", \n",
    "                   labels= {\"bodytype\": \"Body\"},\n",
    "                   title=\"Body\",\n",
    "                   color_discrete_sequence=[\"blue\"])\n",
    "\n",
    "fig.show()"
   ]
  },
  {
   "cell_type": "markdown",
   "metadata": {},
   "source": [
    "## Encoding"
   ]
  },
  {
   "cell_type": "code",
   "execution_count": 51,
   "metadata": {},
   "outputs": [],
   "source": [
    "df_new = pd.get_dummies(df, columns=['bodytype', 'transmission', 'fuel', 'city', 'model', 'brand'])"
   ]
  },
  {
   "cell_type": "code",
   "execution_count": 52,
   "metadata": {},
   "outputs": [
    {
     "data": {
      "text/html": [
       "<div>\n",
       "<style scoped>\n",
       "    .dataframe tbody tr th:only-of-type {\n",
       "        vertical-align: middle;\n",
       "    }\n",
       "\n",
       "    .dataframe tbody tr th {\n",
       "        vertical-align: top;\n",
       "    }\n",
       "\n",
       "    .dataframe thead th {\n",
       "        text-align: right;\n",
       "    }\n",
       "</style>\n",
       "<table border=\"1\" class=\"dataframe\">\n",
       "  <thead>\n",
       "    <tr style=\"text-align: right;\">\n",
       "      <th></th>\n",
       "      <th>price</th>\n",
       "      <th>engine</th>\n",
       "      <th>year</th>\n",
       "      <th>mileage</th>\n",
       "      <th>bodytype_sedan</th>\n",
       "      <th>bodytype_universal</th>\n",
       "      <th>transmission_Автомат</th>\n",
       "      <th>transmission_Ручна / Механіка</th>\n",
       "      <th>fuel_benzin</th>\n",
       "      <th>fuel_dizel</th>\n",
       "      <th>...</th>\n",
       "      <th>city_Софіївська Борщагівка</th>\n",
       "      <th>city_Тульчин</th>\n",
       "      <th>city_Черняхів</th>\n",
       "      <th>model_Toyota Avensis</th>\n",
       "      <th>model_Toyota Camry</th>\n",
       "      <th>model_Toyota Yaris</th>\n",
       "      <th>model_Volkswagen Golf</th>\n",
       "      <th>model_Volkswagen Passat</th>\n",
       "      <th>brand_toyota</th>\n",
       "      <th>brand_volkswagen</th>\n",
       "    </tr>\n",
       "  </thead>\n",
       "  <tbody>\n",
       "    <tr>\n",
       "      <th>0</th>\n",
       "      <td>12100</td>\n",
       "      <td>2.00</td>\n",
       "      <td>2013</td>\n",
       "      <td>308</td>\n",
       "      <td>False</td>\n",
       "      <td>True</td>\n",
       "      <td>True</td>\n",
       "      <td>False</td>\n",
       "      <td>False</td>\n",
       "      <td>True</td>\n",
       "      <td>...</td>\n",
       "      <td>False</td>\n",
       "      <td>False</td>\n",
       "      <td>True</td>\n",
       "      <td>False</td>\n",
       "      <td>False</td>\n",
       "      <td>False</td>\n",
       "      <td>False</td>\n",
       "      <td>True</td>\n",
       "      <td>False</td>\n",
       "      <td>True</td>\n",
       "    </tr>\n",
       "    <tr>\n",
       "      <th>1</th>\n",
       "      <td>16700</td>\n",
       "      <td>2.50</td>\n",
       "      <td>2011</td>\n",
       "      <td>165</td>\n",
       "      <td>True</td>\n",
       "      <td>False</td>\n",
       "      <td>True</td>\n",
       "      <td>False</td>\n",
       "      <td>True</td>\n",
       "      <td>False</td>\n",
       "      <td>...</td>\n",
       "      <td>False</td>\n",
       "      <td>False</td>\n",
       "      <td>False</td>\n",
       "      <td>False</td>\n",
       "      <td>True</td>\n",
       "      <td>False</td>\n",
       "      <td>False</td>\n",
       "      <td>False</td>\n",
       "      <td>True</td>\n",
       "      <td>False</td>\n",
       "    </tr>\n",
       "    <tr>\n",
       "      <th>2</th>\n",
       "      <td>9700</td>\n",
       "      <td>2.50</td>\n",
       "      <td>2013</td>\n",
       "      <td>176</td>\n",
       "      <td>True</td>\n",
       "      <td>False</td>\n",
       "      <td>True</td>\n",
       "      <td>False</td>\n",
       "      <td>False</td>\n",
       "      <td>False</td>\n",
       "      <td>...</td>\n",
       "      <td>False</td>\n",
       "      <td>False</td>\n",
       "      <td>False</td>\n",
       "      <td>False</td>\n",
       "      <td>False</td>\n",
       "      <td>False</td>\n",
       "      <td>False</td>\n",
       "      <td>True</td>\n",
       "      <td>False</td>\n",
       "      <td>True</td>\n",
       "    </tr>\n",
       "    <tr>\n",
       "      <th>3</th>\n",
       "      <td>14100</td>\n",
       "      <td>1.97</td>\n",
       "      <td>2016</td>\n",
       "      <td>300</td>\n",
       "      <td>False</td>\n",
       "      <td>True</td>\n",
       "      <td>True</td>\n",
       "      <td>False</td>\n",
       "      <td>False</td>\n",
       "      <td>True</td>\n",
       "      <td>...</td>\n",
       "      <td>False</td>\n",
       "      <td>False</td>\n",
       "      <td>False</td>\n",
       "      <td>False</td>\n",
       "      <td>False</td>\n",
       "      <td>False</td>\n",
       "      <td>False</td>\n",
       "      <td>True</td>\n",
       "      <td>False</td>\n",
       "      <td>True</td>\n",
       "    </tr>\n",
       "    <tr>\n",
       "      <th>4</th>\n",
       "      <td>16500</td>\n",
       "      <td>1.80</td>\n",
       "      <td>2016</td>\n",
       "      <td>207</td>\n",
       "      <td>True</td>\n",
       "      <td>False</td>\n",
       "      <td>True</td>\n",
       "      <td>False</td>\n",
       "      <td>True</td>\n",
       "      <td>False</td>\n",
       "      <td>...</td>\n",
       "      <td>False</td>\n",
       "      <td>False</td>\n",
       "      <td>False</td>\n",
       "      <td>False</td>\n",
       "      <td>False</td>\n",
       "      <td>False</td>\n",
       "      <td>False</td>\n",
       "      <td>True</td>\n",
       "      <td>False</td>\n",
       "      <td>True</td>\n",
       "    </tr>\n",
       "    <tr>\n",
       "      <th>5</th>\n",
       "      <td>14500</td>\n",
       "      <td>2.49</td>\n",
       "      <td>2012</td>\n",
       "      <td>164</td>\n",
       "      <td>True</td>\n",
       "      <td>False</td>\n",
       "      <td>True</td>\n",
       "      <td>False</td>\n",
       "      <td>True</td>\n",
       "      <td>False</td>\n",
       "      <td>...</td>\n",
       "      <td>False</td>\n",
       "      <td>False</td>\n",
       "      <td>False</td>\n",
       "      <td>False</td>\n",
       "      <td>True</td>\n",
       "      <td>False</td>\n",
       "      <td>False</td>\n",
       "      <td>False</td>\n",
       "      <td>True</td>\n",
       "      <td>False</td>\n",
       "    </tr>\n",
       "    <tr>\n",
       "      <th>6</th>\n",
       "      <td>12200</td>\n",
       "      <td>1.80</td>\n",
       "      <td>2015</td>\n",
       "      <td>130</td>\n",
       "      <td>True</td>\n",
       "      <td>False</td>\n",
       "      <td>True</td>\n",
       "      <td>False</td>\n",
       "      <td>True</td>\n",
       "      <td>False</td>\n",
       "      <td>...</td>\n",
       "      <td>False</td>\n",
       "      <td>False</td>\n",
       "      <td>False</td>\n",
       "      <td>False</td>\n",
       "      <td>False</td>\n",
       "      <td>False</td>\n",
       "      <td>False</td>\n",
       "      <td>True</td>\n",
       "      <td>False</td>\n",
       "      <td>True</td>\n",
       "    </tr>\n",
       "    <tr>\n",
       "      <th>7</th>\n",
       "      <td>11000</td>\n",
       "      <td>1.50</td>\n",
       "      <td>2017</td>\n",
       "      <td>127</td>\n",
       "      <td>True</td>\n",
       "      <td>False</td>\n",
       "      <td>True</td>\n",
       "      <td>False</td>\n",
       "      <td>True</td>\n",
       "      <td>False</td>\n",
       "      <td>...</td>\n",
       "      <td>False</td>\n",
       "      <td>False</td>\n",
       "      <td>False</td>\n",
       "      <td>False</td>\n",
       "      <td>False</td>\n",
       "      <td>True</td>\n",
       "      <td>False</td>\n",
       "      <td>False</td>\n",
       "      <td>True</td>\n",
       "      <td>False</td>\n",
       "    </tr>\n",
       "    <tr>\n",
       "      <th>8</th>\n",
       "      <td>8800</td>\n",
       "      <td>2.50</td>\n",
       "      <td>2012</td>\n",
       "      <td>259</td>\n",
       "      <td>True</td>\n",
       "      <td>False</td>\n",
       "      <td>True</td>\n",
       "      <td>False</td>\n",
       "      <td>False</td>\n",
       "      <td>False</td>\n",
       "      <td>...</td>\n",
       "      <td>False</td>\n",
       "      <td>False</td>\n",
       "      <td>False</td>\n",
       "      <td>False</td>\n",
       "      <td>False</td>\n",
       "      <td>False</td>\n",
       "      <td>False</td>\n",
       "      <td>True</td>\n",
       "      <td>False</td>\n",
       "      <td>True</td>\n",
       "    </tr>\n",
       "    <tr>\n",
       "      <th>9</th>\n",
       "      <td>7700</td>\n",
       "      <td>1.40</td>\n",
       "      <td>2012</td>\n",
       "      <td>251</td>\n",
       "      <td>False</td>\n",
       "      <td>True</td>\n",
       "      <td>False</td>\n",
       "      <td>True</td>\n",
       "      <td>False</td>\n",
       "      <td>False</td>\n",
       "      <td>...</td>\n",
       "      <td>False</td>\n",
       "      <td>False</td>\n",
       "      <td>False</td>\n",
       "      <td>False</td>\n",
       "      <td>False</td>\n",
       "      <td>False</td>\n",
       "      <td>False</td>\n",
       "      <td>True</td>\n",
       "      <td>False</td>\n",
       "      <td>True</td>\n",
       "    </tr>\n",
       "    <tr>\n",
       "      <th>10</th>\n",
       "      <td>9950</td>\n",
       "      <td>1.80</td>\n",
       "      <td>2011</td>\n",
       "      <td>131</td>\n",
       "      <td>True</td>\n",
       "      <td>False</td>\n",
       "      <td>False</td>\n",
       "      <td>True</td>\n",
       "      <td>True</td>\n",
       "      <td>False</td>\n",
       "      <td>...</td>\n",
       "      <td>False</td>\n",
       "      <td>False</td>\n",
       "      <td>False</td>\n",
       "      <td>True</td>\n",
       "      <td>False</td>\n",
       "      <td>False</td>\n",
       "      <td>False</td>\n",
       "      <td>False</td>\n",
       "      <td>True</td>\n",
       "      <td>False</td>\n",
       "    </tr>\n",
       "    <tr>\n",
       "      <th>11</th>\n",
       "      <td>9900</td>\n",
       "      <td>1.60</td>\n",
       "      <td>2015</td>\n",
       "      <td>205</td>\n",
       "      <td>False</td>\n",
       "      <td>True</td>\n",
       "      <td>False</td>\n",
       "      <td>True</td>\n",
       "      <td>False</td>\n",
       "      <td>True</td>\n",
       "      <td>...</td>\n",
       "      <td>False</td>\n",
       "      <td>False</td>\n",
       "      <td>False</td>\n",
       "      <td>False</td>\n",
       "      <td>False</td>\n",
       "      <td>False</td>\n",
       "      <td>True</td>\n",
       "      <td>False</td>\n",
       "      <td>False</td>\n",
       "      <td>True</td>\n",
       "    </tr>\n",
       "    <tr>\n",
       "      <th>12</th>\n",
       "      <td>8499</td>\n",
       "      <td>1.60</td>\n",
       "      <td>2012</td>\n",
       "      <td>250</td>\n",
       "      <td>False</td>\n",
       "      <td>True</td>\n",
       "      <td>True</td>\n",
       "      <td>False</td>\n",
       "      <td>False</td>\n",
       "      <td>True</td>\n",
       "      <td>...</td>\n",
       "      <td>False</td>\n",
       "      <td>True</td>\n",
       "      <td>False</td>\n",
       "      <td>False</td>\n",
       "      <td>False</td>\n",
       "      <td>False</td>\n",
       "      <td>True</td>\n",
       "      <td>False</td>\n",
       "      <td>False</td>\n",
       "      <td>True</td>\n",
       "    </tr>\n",
       "    <tr>\n",
       "      <th>13</th>\n",
       "      <td>13900</td>\n",
       "      <td>1.80</td>\n",
       "      <td>2015</td>\n",
       "      <td>178</td>\n",
       "      <td>True</td>\n",
       "      <td>False</td>\n",
       "      <td>False</td>\n",
       "      <td>True</td>\n",
       "      <td>True</td>\n",
       "      <td>False</td>\n",
       "      <td>...</td>\n",
       "      <td>False</td>\n",
       "      <td>False</td>\n",
       "      <td>False</td>\n",
       "      <td>True</td>\n",
       "      <td>False</td>\n",
       "      <td>False</td>\n",
       "      <td>False</td>\n",
       "      <td>False</td>\n",
       "      <td>True</td>\n",
       "      <td>False</td>\n",
       "    </tr>\n",
       "    <tr>\n",
       "      <th>14</th>\n",
       "      <td>7200</td>\n",
       "      <td>1.60</td>\n",
       "      <td>2013</td>\n",
       "      <td>360</td>\n",
       "      <td>False</td>\n",
       "      <td>True</td>\n",
       "      <td>False</td>\n",
       "      <td>True</td>\n",
       "      <td>False</td>\n",
       "      <td>True</td>\n",
       "      <td>...</td>\n",
       "      <td>False</td>\n",
       "      <td>False</td>\n",
       "      <td>False</td>\n",
       "      <td>False</td>\n",
       "      <td>False</td>\n",
       "      <td>False</td>\n",
       "      <td>True</td>\n",
       "      <td>False</td>\n",
       "      <td>False</td>\n",
       "      <td>True</td>\n",
       "    </tr>\n",
       "    <tr>\n",
       "      <th>15</th>\n",
       "      <td>13500</td>\n",
       "      <td>1.60</td>\n",
       "      <td>2015</td>\n",
       "      <td>283</td>\n",
       "      <td>False</td>\n",
       "      <td>True</td>\n",
       "      <td>False</td>\n",
       "      <td>True</td>\n",
       "      <td>False</td>\n",
       "      <td>True</td>\n",
       "      <td>...</td>\n",
       "      <td>False</td>\n",
       "      <td>False</td>\n",
       "      <td>False</td>\n",
       "      <td>False</td>\n",
       "      <td>False</td>\n",
       "      <td>False</td>\n",
       "      <td>True</td>\n",
       "      <td>False</td>\n",
       "      <td>False</td>\n",
       "      <td>True</td>\n",
       "    </tr>\n",
       "    <tr>\n",
       "      <th>16</th>\n",
       "      <td>16998</td>\n",
       "      <td>1.97</td>\n",
       "      <td>2015</td>\n",
       "      <td>296</td>\n",
       "      <td>False</td>\n",
       "      <td>True</td>\n",
       "      <td>True</td>\n",
       "      <td>False</td>\n",
       "      <td>False</td>\n",
       "      <td>True</td>\n",
       "      <td>...</td>\n",
       "      <td>False</td>\n",
       "      <td>False</td>\n",
       "      <td>False</td>\n",
       "      <td>False</td>\n",
       "      <td>False</td>\n",
       "      <td>False</td>\n",
       "      <td>False</td>\n",
       "      <td>True</td>\n",
       "      <td>False</td>\n",
       "      <td>True</td>\n",
       "    </tr>\n",
       "    <tr>\n",
       "      <th>17</th>\n",
       "      <td>12500</td>\n",
       "      <td>1.80</td>\n",
       "      <td>2016</td>\n",
       "      <td>155</td>\n",
       "      <td>True</td>\n",
       "      <td>False</td>\n",
       "      <td>True</td>\n",
       "      <td>False</td>\n",
       "      <td>True</td>\n",
       "      <td>False</td>\n",
       "      <td>...</td>\n",
       "      <td>False</td>\n",
       "      <td>False</td>\n",
       "      <td>False</td>\n",
       "      <td>False</td>\n",
       "      <td>False</td>\n",
       "      <td>False</td>\n",
       "      <td>False</td>\n",
       "      <td>True</td>\n",
       "      <td>False</td>\n",
       "      <td>True</td>\n",
       "    </tr>\n",
       "    <tr>\n",
       "      <th>18</th>\n",
       "      <td>10500</td>\n",
       "      <td>2.48</td>\n",
       "      <td>2013</td>\n",
       "      <td>277</td>\n",
       "      <td>True</td>\n",
       "      <td>False</td>\n",
       "      <td>True</td>\n",
       "      <td>False</td>\n",
       "      <td>True</td>\n",
       "      <td>False</td>\n",
       "      <td>...</td>\n",
       "      <td>False</td>\n",
       "      <td>False</td>\n",
       "      <td>False</td>\n",
       "      <td>False</td>\n",
       "      <td>False</td>\n",
       "      <td>False</td>\n",
       "      <td>False</td>\n",
       "      <td>True</td>\n",
       "      <td>False</td>\n",
       "      <td>True</td>\n",
       "    </tr>\n",
       "    <tr>\n",
       "      <th>19</th>\n",
       "      <td>7750</td>\n",
       "      <td>1.60</td>\n",
       "      <td>2012</td>\n",
       "      <td>208</td>\n",
       "      <td>False</td>\n",
       "      <td>True</td>\n",
       "      <td>False</td>\n",
       "      <td>True</td>\n",
       "      <td>True</td>\n",
       "      <td>False</td>\n",
       "      <td>...</td>\n",
       "      <td>False</td>\n",
       "      <td>False</td>\n",
       "      <td>False</td>\n",
       "      <td>False</td>\n",
       "      <td>False</td>\n",
       "      <td>False</td>\n",
       "      <td>True</td>\n",
       "      <td>False</td>\n",
       "      <td>False</td>\n",
       "      <td>True</td>\n",
       "    </tr>\n",
       "    <tr>\n",
       "      <th>20</th>\n",
       "      <td>8800</td>\n",
       "      <td>1.40</td>\n",
       "      <td>2013</td>\n",
       "      <td>173</td>\n",
       "      <td>False</td>\n",
       "      <td>True</td>\n",
       "      <td>True</td>\n",
       "      <td>False</td>\n",
       "      <td>True</td>\n",
       "      <td>False</td>\n",
       "      <td>...</td>\n",
       "      <td>False</td>\n",
       "      <td>False</td>\n",
       "      <td>False</td>\n",
       "      <td>False</td>\n",
       "      <td>False</td>\n",
       "      <td>False</td>\n",
       "      <td>True</td>\n",
       "      <td>False</td>\n",
       "      <td>False</td>\n",
       "      <td>True</td>\n",
       "    </tr>\n",
       "    <tr>\n",
       "      <th>21</th>\n",
       "      <td>15900</td>\n",
       "      <td>2.50</td>\n",
       "      <td>2017</td>\n",
       "      <td>145</td>\n",
       "      <td>True</td>\n",
       "      <td>False</td>\n",
       "      <td>True</td>\n",
       "      <td>False</td>\n",
       "      <td>True</td>\n",
       "      <td>False</td>\n",
       "      <td>...</td>\n",
       "      <td>False</td>\n",
       "      <td>False</td>\n",
       "      <td>False</td>\n",
       "      <td>False</td>\n",
       "      <td>True</td>\n",
       "      <td>False</td>\n",
       "      <td>False</td>\n",
       "      <td>False</td>\n",
       "      <td>True</td>\n",
       "      <td>False</td>\n",
       "    </tr>\n",
       "    <tr>\n",
       "      <th>22</th>\n",
       "      <td>9500</td>\n",
       "      <td>2.48</td>\n",
       "      <td>2012</td>\n",
       "      <td>197</td>\n",
       "      <td>True</td>\n",
       "      <td>False</td>\n",
       "      <td>True</td>\n",
       "      <td>False</td>\n",
       "      <td>False</td>\n",
       "      <td>False</td>\n",
       "      <td>...</td>\n",
       "      <td>False</td>\n",
       "      <td>False</td>\n",
       "      <td>False</td>\n",
       "      <td>False</td>\n",
       "      <td>False</td>\n",
       "      <td>False</td>\n",
       "      <td>False</td>\n",
       "      <td>True</td>\n",
       "      <td>False</td>\n",
       "      <td>True</td>\n",
       "    </tr>\n",
       "    <tr>\n",
       "      <th>23</th>\n",
       "      <td>8100</td>\n",
       "      <td>2.50</td>\n",
       "      <td>2013</td>\n",
       "      <td>200</td>\n",
       "      <td>True</td>\n",
       "      <td>False</td>\n",
       "      <td>True</td>\n",
       "      <td>False</td>\n",
       "      <td>False</td>\n",
       "      <td>False</td>\n",
       "      <td>...</td>\n",
       "      <td>False</td>\n",
       "      <td>False</td>\n",
       "      <td>False</td>\n",
       "      <td>False</td>\n",
       "      <td>False</td>\n",
       "      <td>False</td>\n",
       "      <td>False</td>\n",
       "      <td>True</td>\n",
       "      <td>False</td>\n",
       "      <td>True</td>\n",
       "    </tr>\n",
       "    <tr>\n",
       "      <th>24</th>\n",
       "      <td>12950</td>\n",
       "      <td>1.80</td>\n",
       "      <td>2016</td>\n",
       "      <td>120</td>\n",
       "      <td>True</td>\n",
       "      <td>False</td>\n",
       "      <td>True</td>\n",
       "      <td>False</td>\n",
       "      <td>True</td>\n",
       "      <td>False</td>\n",
       "      <td>...</td>\n",
       "      <td>False</td>\n",
       "      <td>False</td>\n",
       "      <td>False</td>\n",
       "      <td>False</td>\n",
       "      <td>False</td>\n",
       "      <td>False</td>\n",
       "      <td>False</td>\n",
       "      <td>True</td>\n",
       "      <td>False</td>\n",
       "      <td>True</td>\n",
       "    </tr>\n",
       "    <tr>\n",
       "      <th>25</th>\n",
       "      <td>10050</td>\n",
       "      <td>2.50</td>\n",
       "      <td>2012</td>\n",
       "      <td>210</td>\n",
       "      <td>True</td>\n",
       "      <td>False</td>\n",
       "      <td>True</td>\n",
       "      <td>False</td>\n",
       "      <td>False</td>\n",
       "      <td>False</td>\n",
       "      <td>...</td>\n",
       "      <td>False</td>\n",
       "      <td>False</td>\n",
       "      <td>False</td>\n",
       "      <td>False</td>\n",
       "      <td>False</td>\n",
       "      <td>False</td>\n",
       "      <td>False</td>\n",
       "      <td>True</td>\n",
       "      <td>False</td>\n",
       "      <td>True</td>\n",
       "    </tr>\n",
       "    <tr>\n",
       "      <th>26</th>\n",
       "      <td>17990</td>\n",
       "      <td>2.00</td>\n",
       "      <td>2016</td>\n",
       "      <td>223</td>\n",
       "      <td>False</td>\n",
       "      <td>True</td>\n",
       "      <td>True</td>\n",
       "      <td>False</td>\n",
       "      <td>False</td>\n",
       "      <td>True</td>\n",
       "      <td>...</td>\n",
       "      <td>False</td>\n",
       "      <td>False</td>\n",
       "      <td>False</td>\n",
       "      <td>False</td>\n",
       "      <td>False</td>\n",
       "      <td>False</td>\n",
       "      <td>False</td>\n",
       "      <td>True</td>\n",
       "      <td>False</td>\n",
       "      <td>True</td>\n",
       "    </tr>\n",
       "    <tr>\n",
       "      <th>27</th>\n",
       "      <td>11400</td>\n",
       "      <td>1.60</td>\n",
       "      <td>2013</td>\n",
       "      <td>217</td>\n",
       "      <td>False</td>\n",
       "      <td>True</td>\n",
       "      <td>False</td>\n",
       "      <td>True</td>\n",
       "      <td>False</td>\n",
       "      <td>True</td>\n",
       "      <td>...</td>\n",
       "      <td>False</td>\n",
       "      <td>False</td>\n",
       "      <td>False</td>\n",
       "      <td>False</td>\n",
       "      <td>False</td>\n",
       "      <td>False</td>\n",
       "      <td>False</td>\n",
       "      <td>True</td>\n",
       "      <td>False</td>\n",
       "      <td>True</td>\n",
       "    </tr>\n",
       "    <tr>\n",
       "      <th>28</th>\n",
       "      <td>10500</td>\n",
       "      <td>2.50</td>\n",
       "      <td>2013</td>\n",
       "      <td>202</td>\n",
       "      <td>True</td>\n",
       "      <td>False</td>\n",
       "      <td>True</td>\n",
       "      <td>False</td>\n",
       "      <td>True</td>\n",
       "      <td>False</td>\n",
       "      <td>...</td>\n",
       "      <td>False</td>\n",
       "      <td>False</td>\n",
       "      <td>False</td>\n",
       "      <td>False</td>\n",
       "      <td>False</td>\n",
       "      <td>False</td>\n",
       "      <td>False</td>\n",
       "      <td>True</td>\n",
       "      <td>False</td>\n",
       "      <td>True</td>\n",
       "    </tr>\n",
       "    <tr>\n",
       "      <th>29</th>\n",
       "      <td>11500</td>\n",
       "      <td>2.50</td>\n",
       "      <td>2012</td>\n",
       "      <td>320</td>\n",
       "      <td>True</td>\n",
       "      <td>False</td>\n",
       "      <td>True</td>\n",
       "      <td>False</td>\n",
       "      <td>False</td>\n",
       "      <td>False</td>\n",
       "      <td>...</td>\n",
       "      <td>True</td>\n",
       "      <td>False</td>\n",
       "      <td>False</td>\n",
       "      <td>False</td>\n",
       "      <td>False</td>\n",
       "      <td>False</td>\n",
       "      <td>False</td>\n",
       "      <td>True</td>\n",
       "      <td>False</td>\n",
       "      <td>True</td>\n",
       "    </tr>\n",
       "    <tr>\n",
       "      <th>30</th>\n",
       "      <td>11300</td>\n",
       "      <td>2.00</td>\n",
       "      <td>2012</td>\n",
       "      <td>270</td>\n",
       "      <td>True</td>\n",
       "      <td>False</td>\n",
       "      <td>False</td>\n",
       "      <td>True</td>\n",
       "      <td>False</td>\n",
       "      <td>True</td>\n",
       "      <td>...</td>\n",
       "      <td>False</td>\n",
       "      <td>False</td>\n",
       "      <td>False</td>\n",
       "      <td>False</td>\n",
       "      <td>False</td>\n",
       "      <td>False</td>\n",
       "      <td>False</td>\n",
       "      <td>True</td>\n",
       "      <td>False</td>\n",
       "      <td>True</td>\n",
       "    </tr>\n",
       "  </tbody>\n",
       "</table>\n",
       "<p>31 rows × 30 columns</p>\n",
       "</div>"
      ],
      "text/plain": [
       "    price  engine  year  mileage  bodytype_sedan  bodytype_universal  \\\n",
       "0   12100    2.00  2013      308           False                True   \n",
       "1   16700    2.50  2011      165            True               False   \n",
       "2    9700    2.50  2013      176            True               False   \n",
       "3   14100    1.97  2016      300           False                True   \n",
       "4   16500    1.80  2016      207            True               False   \n",
       "5   14500    2.49  2012      164            True               False   \n",
       "6   12200    1.80  2015      130            True               False   \n",
       "7   11000    1.50  2017      127            True               False   \n",
       "8    8800    2.50  2012      259            True               False   \n",
       "9    7700    1.40  2012      251           False                True   \n",
       "10   9950    1.80  2011      131            True               False   \n",
       "11   9900    1.60  2015      205           False                True   \n",
       "12   8499    1.60  2012      250           False                True   \n",
       "13  13900    1.80  2015      178            True               False   \n",
       "14   7200    1.60  2013      360           False                True   \n",
       "15  13500    1.60  2015      283           False                True   \n",
       "16  16998    1.97  2015      296           False                True   \n",
       "17  12500    1.80  2016      155            True               False   \n",
       "18  10500    2.48  2013      277            True               False   \n",
       "19   7750    1.60  2012      208           False                True   \n",
       "20   8800    1.40  2013      173           False                True   \n",
       "21  15900    2.50  2017      145            True               False   \n",
       "22   9500    2.48  2012      197            True               False   \n",
       "23   8100    2.50  2013      200            True               False   \n",
       "24  12950    1.80  2016      120            True               False   \n",
       "25  10050    2.50  2012      210            True               False   \n",
       "26  17990    2.00  2016      223           False                True   \n",
       "27  11400    1.60  2013      217           False                True   \n",
       "28  10500    2.50  2013      202            True               False   \n",
       "29  11500    2.50  2012      320            True               False   \n",
       "30  11300    2.00  2012      270            True               False   \n",
       "\n",
       "    transmission_Автомат  transmission_Ручна / Механіка  fuel_benzin  \\\n",
       "0                   True                          False        False   \n",
       "1                   True                          False         True   \n",
       "2                   True                          False        False   \n",
       "3                   True                          False        False   \n",
       "4                   True                          False         True   \n",
       "5                   True                          False         True   \n",
       "6                   True                          False         True   \n",
       "7                   True                          False         True   \n",
       "8                   True                          False        False   \n",
       "9                  False                           True        False   \n",
       "10                 False                           True         True   \n",
       "11                 False                           True        False   \n",
       "12                  True                          False        False   \n",
       "13                 False                           True         True   \n",
       "14                 False                           True        False   \n",
       "15                 False                           True        False   \n",
       "16                  True                          False        False   \n",
       "17                  True                          False         True   \n",
       "18                  True                          False         True   \n",
       "19                 False                           True         True   \n",
       "20                  True                          False         True   \n",
       "21                  True                          False         True   \n",
       "22                  True                          False        False   \n",
       "23                  True                          False        False   \n",
       "24                  True                          False         True   \n",
       "25                  True                          False        False   \n",
       "26                  True                          False        False   \n",
       "27                 False                           True        False   \n",
       "28                  True                          False         True   \n",
       "29                  True                          False        False   \n",
       "30                 False                           True        False   \n",
       "\n",
       "    fuel_dizel  ...  city_Софіївська Борщагівка  city_Тульчин  city_Черняхів  \\\n",
       "0         True  ...                       False         False           True   \n",
       "1        False  ...                       False         False          False   \n",
       "2        False  ...                       False         False          False   \n",
       "3         True  ...                       False         False          False   \n",
       "4        False  ...                       False         False          False   \n",
       "5        False  ...                       False         False          False   \n",
       "6        False  ...                       False         False          False   \n",
       "7        False  ...                       False         False          False   \n",
       "8        False  ...                       False         False          False   \n",
       "9        False  ...                       False         False          False   \n",
       "10       False  ...                       False         False          False   \n",
       "11        True  ...                       False         False          False   \n",
       "12        True  ...                       False          True          False   \n",
       "13       False  ...                       False         False          False   \n",
       "14        True  ...                       False         False          False   \n",
       "15        True  ...                       False         False          False   \n",
       "16        True  ...                       False         False          False   \n",
       "17       False  ...                       False         False          False   \n",
       "18       False  ...                       False         False          False   \n",
       "19       False  ...                       False         False          False   \n",
       "20       False  ...                       False         False          False   \n",
       "21       False  ...                       False         False          False   \n",
       "22       False  ...                       False         False          False   \n",
       "23       False  ...                       False         False          False   \n",
       "24       False  ...                       False         False          False   \n",
       "25       False  ...                       False         False          False   \n",
       "26        True  ...                       False         False          False   \n",
       "27        True  ...                       False         False          False   \n",
       "28       False  ...                       False         False          False   \n",
       "29       False  ...                        True         False          False   \n",
       "30        True  ...                       False         False          False   \n",
       "\n",
       "    model_Toyota Avensis  model_Toyota Camry  model_Toyota Yaris  \\\n",
       "0                  False               False               False   \n",
       "1                  False                True               False   \n",
       "2                  False               False               False   \n",
       "3                  False               False               False   \n",
       "4                  False               False               False   \n",
       "5                  False                True               False   \n",
       "6                  False               False               False   \n",
       "7                  False               False                True   \n",
       "8                  False               False               False   \n",
       "9                  False               False               False   \n",
       "10                  True               False               False   \n",
       "11                 False               False               False   \n",
       "12                 False               False               False   \n",
       "13                  True               False               False   \n",
       "14                 False               False               False   \n",
       "15                 False               False               False   \n",
       "16                 False               False               False   \n",
       "17                 False               False               False   \n",
       "18                 False               False               False   \n",
       "19                 False               False               False   \n",
       "20                 False               False               False   \n",
       "21                 False                True               False   \n",
       "22                 False               False               False   \n",
       "23                 False               False               False   \n",
       "24                 False               False               False   \n",
       "25                 False               False               False   \n",
       "26                 False               False               False   \n",
       "27                 False               False               False   \n",
       "28                 False               False               False   \n",
       "29                 False               False               False   \n",
       "30                 False               False               False   \n",
       "\n",
       "    model_Volkswagen Golf  model_Volkswagen Passat  brand_toyota  \\\n",
       "0                   False                     True         False   \n",
       "1                   False                    False          True   \n",
       "2                   False                     True         False   \n",
       "3                   False                     True         False   \n",
       "4                   False                     True         False   \n",
       "5                   False                    False          True   \n",
       "6                   False                     True         False   \n",
       "7                   False                    False          True   \n",
       "8                   False                     True         False   \n",
       "9                   False                     True         False   \n",
       "10                  False                    False          True   \n",
       "11                   True                    False         False   \n",
       "12                   True                    False         False   \n",
       "13                  False                    False          True   \n",
       "14                   True                    False         False   \n",
       "15                   True                    False         False   \n",
       "16                  False                     True         False   \n",
       "17                  False                     True         False   \n",
       "18                  False                     True         False   \n",
       "19                   True                    False         False   \n",
       "20                   True                    False         False   \n",
       "21                  False                    False          True   \n",
       "22                  False                     True         False   \n",
       "23                  False                     True         False   \n",
       "24                  False                     True         False   \n",
       "25                  False                     True         False   \n",
       "26                  False                     True         False   \n",
       "27                  False                     True         False   \n",
       "28                  False                     True         False   \n",
       "29                  False                     True         False   \n",
       "30                  False                     True         False   \n",
       "\n",
       "    brand_volkswagen  \n",
       "0               True  \n",
       "1              False  \n",
       "2               True  \n",
       "3               True  \n",
       "4               True  \n",
       "5              False  \n",
       "6               True  \n",
       "7              False  \n",
       "8               True  \n",
       "9               True  \n",
       "10             False  \n",
       "11              True  \n",
       "12              True  \n",
       "13             False  \n",
       "14              True  \n",
       "15              True  \n",
       "16              True  \n",
       "17              True  \n",
       "18              True  \n",
       "19              True  \n",
       "20              True  \n",
       "21             False  \n",
       "22              True  \n",
       "23              True  \n",
       "24              True  \n",
       "25              True  \n",
       "26              True  \n",
       "27              True  \n",
       "28              True  \n",
       "29              True  \n",
       "30              True  \n",
       "\n",
       "[31 rows x 30 columns]"
      ]
     },
     "execution_count": 52,
     "metadata": {},
     "output_type": "execute_result"
    }
   ],
   "source": [
    "df_new"
   ]
  },
  {
   "cell_type": "markdown",
   "metadata": {},
   "source": [
    "## Model training"
   ]
  },
  {
   "cell_type": "code",
   "execution_count": 53,
   "metadata": {},
   "outputs": [],
   "source": [
    "X = df_new.drop('price', axis=1)\n",
    "y = df_new['price']"
   ]
  },
  {
   "cell_type": "code",
   "execution_count": 54,
   "metadata": {},
   "outputs": [],
   "source": [
    "from sklearn.model_selection import train_test_split\n",
    "\n",
    "X_train, X_test, y_train, y_test = train_test_split(X, y, test_size=0.2, random_state=42)"
   ]
  },
  {
   "cell_type": "markdown",
   "metadata": {},
   "source": [
    "#### LinearRegression"
   ]
  },
  {
   "cell_type": "code",
   "execution_count": 55,
   "metadata": {},
   "outputs": [
    {
     "data": {
      "text/plain": [
       "-1.7199690455549255"
      ]
     },
     "execution_count": 55,
     "metadata": {},
     "output_type": "execute_result"
    }
   ],
   "source": [
    "from sklearn.linear_model import LinearRegression\n",
    "\n",
    "linear_model = LinearRegression()\n",
    "linear_model.fit(X_train, y_train)\n",
    "linear_model.score(X_test, y_test)"
   ]
  }
 ],
 "metadata": {
  "kernelspec": {
   "display_name": "dsi_participant",
   "language": "python",
   "name": "python3"
  },
  "language_info": {
   "codemirror_mode": {
    "name": "ipython",
    "version": 3
   },
   "file_extension": ".py",
   "mimetype": "text/x-python",
   "name": "python",
   "nbconvert_exporter": "python",
   "pygments_lexer": "ipython3",
   "version": "3.9.18"
  }
 },
 "nbformat": 4,
 "nbformat_minor": 2
}
