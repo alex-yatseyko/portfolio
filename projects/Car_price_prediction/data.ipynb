{
 "cells": [
  {
   "cell_type": "code",
   "execution_count": 11,
   "metadata": {},
   "outputs": [],
   "source": [
    "import requests\n",
    "import os\n",
    "from dotenv import load_dotenv\n",
    "import pandas as pd\n",
    "\n",
    "load_dotenv()\n",
    "\n",
    "api_key = os.getenv('RIA_API')"
   ]
  },
  {
   "cell_type": "code",
   "execution_count": 12,
   "metadata": {},
   "outputs": [
    {
     "name": "stdout",
     "output_type": "stream",
     "text": [
      "7m8nTFlCP9kty7dcnBP5Qys9Qy9iCqAyr4Sk1TNh\n"
     ]
    }
   ],
   "source": [
    "print(api_key)"
   ]
  },
  {
   "cell_type": "code",
   "execution_count": 13,
   "metadata": {},
   "outputs": [],
   "source": [
    "url = f'https://developers.ria.com/auto/search?api_key={api_key}&category_id=1&bodystyle[0]=3&bodystyle[4]=2&marka_id[0]=79&model_id[0]=0&s_yers[0]=2010&po_yers[0]=2017&marka_id[1]=84&model_id[1]=0&s_yers[1]=2012&po_yers[1]=2016&brandOrigin[0]=276&brandOrigin[1]=392&price_ot=1000&price_do=60000&currency=1&auctionPossible=1&state[0]=1&city[0]=0&state[1]=2&city[1]=0&state[2]=10&city[2]=0&abroad=2&custom=1&auto_options[477]=477&type[0]=1&type[1]=2&type[3]=4&type[7]=8&gearbox[0]=1&gearbox[1]=2&gearbox[2]=3&engineVolumeFrom=1.4&engineVolumeTo=3.2&powerFrom=90&powerTo=250&power_name=1&countpage=50&with_photo=1'"
   ]
  },
  {
   "cell_type": "code",
   "execution_count": 14,
   "metadata": {},
   "outputs": [
    {
     "name": "stdout",
     "output_type": "stream",
     "text": [
      "Total results: 2\n",
      "             additional_params result\n",
      "catalog_name                      NaN\n",
      "elastica                  True    NaN\n",
      "lang_id                      4    NaN\n",
      "nodejs                    True    NaN\n",
      "page                         0    NaN\n"
     ]
    }
   ],
   "source": [
    "response = requests.get(url)\n",
    "\n",
    "if response.status_code == 200:\n",
    "    data = response.json()\n",
    "    print(f\"Total results: {len(data)}\")\n",
    "    \n",
    "    df = pd.DataFrame(data)\n",
    "\n",
    "    print(df.head())\n",
    "\n",
    "    df.to_csv('searched_data.csv', index=False)\n",
    "else:\n",
    "    print(f\"Error: {response.status_code}\")"
   ]
  },
  {
   "cell_type": "code",
   "execution_count": 15,
   "metadata": {},
   "outputs": [
    {
     "data": {
      "text/plain": [
       "50"
      ]
     },
     "execution_count": 15,
     "metadata": {},
     "output_type": "execute_result"
    }
   ],
   "source": [
    "car_ids = ['37156980', '37138497', '36821342', '36818982', '37179275', '36732731', '37151987', '37043313', '36968496', '37203916', '37150041', '37057391', '37189274', '36820331', '37192811', '37032334', '36955510', '36830369', '36082690', '37203974', '37204360', '36083250', '36624438', '37202886', '36746351', '37049359', '36887230', '37091079', '37051284', '36071900', '36078484', '36617163', '36763936', '36899793', '36615075', '36615014', '34880512', '34527571', '36897968', '36896364', '32816549', '37181499', '37180931', '37186095', '35455343', '37015674', '36056661', '36603126', '37181891', '36749906']\n",
    "len(car_ids)"
   ]
  },
  {
   "cell_type": "code",
   "execution_count": 16,
   "metadata": {},
   "outputs": [
    {
     "name": "stdout",
     "output_type": "stream",
     "text": [
      "{'priceUSD': 12100, 'title': 'Volkswagen Passat', 'locationCityName': 'Черняхів', 'markNameEng': 'volkswagen', 'fuelNameEng': None, 'fuelName': None, 'year': None, 'gearboxName': None, 'subCategoryNameEng': None, 'race': None}\n"
     ]
    }
   ],
   "source": [
    "# Test\n",
    "car_id = '37156980'\n",
    "url = f'https://developers.ria.com/auto/info?api_key={api_key}&auto_id={car_id}'\n",
    "\n",
    "response = requests.get(url)\n",
    "car_data = response.json()\n",
    "\n",
    "car_info = {\n",
    "    \"priceUSD\": car_data.get('USD', None),\n",
    "    \"title\": car_data.get('title', None),\n",
    "    \"locationCityName\": car_data.get('locationCityName', None),\n",
    "    \"markNameEng\": car_data.get('markNameEng', None),\n",
    "    \"fuelNameEng\": car_data.get('fuelNameEng', None),\n",
    "    \"fuelName\": car_data.get('fuelName', None),\n",
    "    \"year\": car_data.get('year', None),\n",
    "    \"gearboxName\": car_data.get('gearboxName', None),\n",
    "    \"subCategoryNameEng\": car_data.get('subCategoryNameEng', None),\n",
    "    \"race\": car_data.get('raceInt', None)\n",
    "}\n",
    "\n",
    "print(car_info)"
   ]
  },
  {
   "cell_type": "code",
   "execution_count": 20,
   "metadata": {},
   "outputs": [
    {
     "name": "stdout",
     "output_type": "stream",
     "text": [
      "{'priceUSD': 16700, 'title': 'Toyota Camry', 'locationCityName': 'Київ', 'markNameEng': 'toyota', 'fuelNameEng': None, 'fuelName': None, 'year': None, 'gearboxName': None, 'subCategoryNameEng': None, 'race': None}\n"
     ]
    }
   ],
   "source": [
    "# Test 2\n",
    "car_id_2 = '37138497'\n",
    "url = f'https://developers.ria.com/auto/info?api_key={api_key}&auto_id={car_id_2}'\n",
    "\n",
    "response = requests.get(url)\n",
    "car_data_2 = response.json()\n",
    "\n",
    "car_info_2 = {\n",
    "    \"priceUSD\": car_data_2.get('USD', None),\n",
    "    \"title\": car_data_2.get('title', None),\n",
    "    \"locationCityName\": car_data_2.get('locationCityName', None),\n",
    "    \"markNameEng\": car_data_2.get('markNameEng', None),\n",
    "    \"fuelNameEng\": car_data_2.get('fuelNameEng', None),\n",
    "    \"fuelName\": car_data_2.get('fuelName', None),\n",
    "    \"year\": car_data_2.get('year', None),\n",
    "    \"gearboxName\": car_data_2.get('gearboxName', None),\n",
    "    \"subCategoryNameEng\": car_data_2.get('subCategoryNameEng', None),\n",
    "    \"race\": car_data_2.get('raceInt', None)\n",
    "}\n",
    "\n",
    "print(car_info_2)"
   ]
  },
  {
   "cell_type": "code",
   "execution_count": 36,
   "metadata": {},
   "outputs": [
    {
     "data": {
      "text/plain": [
       "{'price': '12 100',\n",
       " 'model': 'Volkswagen Passat',\n",
       " 'city': 'Черняхів',\n",
       " 'brand': 'volkswagen',\n",
       " 'fuel': 'dizel',\n",
       " 'engine': 'Дизель, 2 л.',\n",
       " 'year': 2013,\n",
       " 'mileage': '308 тис. км',\n",
       " 'transmission': 'Автомат',\n",
       " 'bodytype': 'universal'}"
      ]
     },
     "execution_count": 36,
     "metadata": {},
     "output_type": "execute_result"
    }
   ],
   "source": [
    "car = {\n",
    "    \"price\": car_data['prices'][0]['USD'],\n",
    "    \"model\": car_data['title'],\n",
    "    \"city\": car_data['locationCityName'],\n",
    "    \"brand\": car_data['markNameEng'],\n",
    "    'fuel': car_data[\"autoData\"][\"fuelNameEng\"],\n",
    "    'engine': car_data[\"autoData\"][\"fuelName\"],\n",
    "    \"year\": car_data[\"autoData\"][\"year\"],\n",
    "    \"mileage\": car_data[\"autoData\"][\"race\"],\n",
    "    \"transmission\": car_data[\"autoData\"][\"gearboxName\"],\n",
    "    \"bodytype\": car_data[\"autoData\"][\"subCategoryNameEng\"]\n",
    "}\n",
    "car"
   ]
  },
  {
   "cell_type": "code",
   "execution_count": 42,
   "metadata": {},
   "outputs": [
    {
     "name": "stdout",
     "output_type": "stream",
     "text": [
      "https://developers.ria.com/auto/info?api_key=7m8nTFlCP9kty7dcnBP5Qys9Qy9iCqAyr4Sk1TNh&auto_id=37156980\n",
      "https://developers.ria.com/auto/info?api_key=7m8nTFlCP9kty7dcnBP5Qys9Qy9iCqAyr4Sk1TNh&auto_id=37138497\n",
      "https://developers.ria.com/auto/info?api_key=7m8nTFlCP9kty7dcnBP5Qys9Qy9iCqAyr4Sk1TNh&auto_id=36821342\n",
      "https://developers.ria.com/auto/info?api_key=7m8nTFlCP9kty7dcnBP5Qys9Qy9iCqAyr4Sk1TNh&auto_id=36818982\n",
      "https://developers.ria.com/auto/info?api_key=7m8nTFlCP9kty7dcnBP5Qys9Qy9iCqAyr4Sk1TNh&auto_id=37179275\n",
      "https://developers.ria.com/auto/info?api_key=7m8nTFlCP9kty7dcnBP5Qys9Qy9iCqAyr4Sk1TNh&auto_id=36732731\n",
      "https://developers.ria.com/auto/info?api_key=7m8nTFlCP9kty7dcnBP5Qys9Qy9iCqAyr4Sk1TNh&auto_id=37151987\n",
      "https://developers.ria.com/auto/info?api_key=7m8nTFlCP9kty7dcnBP5Qys9Qy9iCqAyr4Sk1TNh&auto_id=37043313\n",
      "https://developers.ria.com/auto/info?api_key=7m8nTFlCP9kty7dcnBP5Qys9Qy9iCqAyr4Sk1TNh&auto_id=36968496\n",
      "https://developers.ria.com/auto/info?api_key=7m8nTFlCP9kty7dcnBP5Qys9Qy9iCqAyr4Sk1TNh&auto_id=37203916\n",
      "https://developers.ria.com/auto/info?api_key=7m8nTFlCP9kty7dcnBP5Qys9Qy9iCqAyr4Sk1TNh&auto_id=37150041\n",
      "https://developers.ria.com/auto/info?api_key=7m8nTFlCP9kty7dcnBP5Qys9Qy9iCqAyr4Sk1TNh&auto_id=37057391\n",
      "https://developers.ria.com/auto/info?api_key=7m8nTFlCP9kty7dcnBP5Qys9Qy9iCqAyr4Sk1TNh&auto_id=37189274\n",
      "https://developers.ria.com/auto/info?api_key=7m8nTFlCP9kty7dcnBP5Qys9Qy9iCqAyr4Sk1TNh&auto_id=36820331\n",
      "https://developers.ria.com/auto/info?api_key=7m8nTFlCP9kty7dcnBP5Qys9Qy9iCqAyr4Sk1TNh&auto_id=37192811\n",
      "https://developers.ria.com/auto/info?api_key=7m8nTFlCP9kty7dcnBP5Qys9Qy9iCqAyr4Sk1TNh&auto_id=37032334\n",
      "https://developers.ria.com/auto/info?api_key=7m8nTFlCP9kty7dcnBP5Qys9Qy9iCqAyr4Sk1TNh&auto_id=36955510\n",
      "https://developers.ria.com/auto/info?api_key=7m8nTFlCP9kty7dcnBP5Qys9Qy9iCqAyr4Sk1TNh&auto_id=36830369\n",
      "https://developers.ria.com/auto/info?api_key=7m8nTFlCP9kty7dcnBP5Qys9Qy9iCqAyr4Sk1TNh&auto_id=36082690\n",
      "https://developers.ria.com/auto/info?api_key=7m8nTFlCP9kty7dcnBP5Qys9Qy9iCqAyr4Sk1TNh&auto_id=37203974\n",
      "https://developers.ria.com/auto/info?api_key=7m8nTFlCP9kty7dcnBP5Qys9Qy9iCqAyr4Sk1TNh&auto_id=37204360\n",
      "https://developers.ria.com/auto/info?api_key=7m8nTFlCP9kty7dcnBP5Qys9Qy9iCqAyr4Sk1TNh&auto_id=36083250\n",
      "https://developers.ria.com/auto/info?api_key=7m8nTFlCP9kty7dcnBP5Qys9Qy9iCqAyr4Sk1TNh&auto_id=36624438\n",
      "https://developers.ria.com/auto/info?api_key=7m8nTFlCP9kty7dcnBP5Qys9Qy9iCqAyr4Sk1TNh&auto_id=37202886\n",
      "https://developers.ria.com/auto/info?api_key=7m8nTFlCP9kty7dcnBP5Qys9Qy9iCqAyr4Sk1TNh&auto_id=36746351\n",
      "https://developers.ria.com/auto/info?api_key=7m8nTFlCP9kty7dcnBP5Qys9Qy9iCqAyr4Sk1TNh&auto_id=37049359\n",
      "https://developers.ria.com/auto/info?api_key=7m8nTFlCP9kty7dcnBP5Qys9Qy9iCqAyr4Sk1TNh&auto_id=36887230\n",
      "https://developers.ria.com/auto/info?api_key=7m8nTFlCP9kty7dcnBP5Qys9Qy9iCqAyr4Sk1TNh&auto_id=37091079\n",
      "https://developers.ria.com/auto/info?api_key=7m8nTFlCP9kty7dcnBP5Qys9Qy9iCqAyr4Sk1TNh&auto_id=37051284\n",
      "https://developers.ria.com/auto/info?api_key=7m8nTFlCP9kty7dcnBP5Qys9Qy9iCqAyr4Sk1TNh&auto_id=36071900\n",
      "https://developers.ria.com/auto/info?api_key=7m8nTFlCP9kty7dcnBP5Qys9Qy9iCqAyr4Sk1TNh&auto_id=36078484\n",
      "https://developers.ria.com/auto/info?api_key=7m8nTFlCP9kty7dcnBP5Qys9Qy9iCqAyr4Sk1TNh&auto_id=36617163\n"
     ]
    },
    {
     "ename": "KeyError",
     "evalue": "'title'",
     "output_type": "error",
     "traceback": [
      "\u001b[0;31m---------------------------------------------------------------------------\u001b[0m",
      "\u001b[0;31mKeyError\u001b[0m                                  Traceback (most recent call last)",
      "Cell \u001b[0;32mIn[42], line 15\u001b[0m\n\u001b[1;32m     10\u001b[0m     response \u001b[38;5;241m=\u001b[39m requests\u001b[38;5;241m.\u001b[39mget(url)\n\u001b[1;32m     11\u001b[0m     car_data \u001b[38;5;241m=\u001b[39m response\u001b[38;5;241m.\u001b[39mjson()\n\u001b[1;32m     13\u001b[0m     car \u001b[38;5;241m=\u001b[39m {\n\u001b[1;32m     14\u001b[0m         \u001b[38;5;124m\"\u001b[39m\u001b[38;5;124mprice\u001b[39m\u001b[38;5;124m\"\u001b[39m: car_data[\u001b[38;5;124m'\u001b[39m\u001b[38;5;124mprices\u001b[39m\u001b[38;5;124m'\u001b[39m][\u001b[38;5;241m0\u001b[39m][\u001b[38;5;124m'\u001b[39m\u001b[38;5;124mUSD\u001b[39m\u001b[38;5;124m'\u001b[39m] \u001b[38;5;28;01mif\u001b[39;00m \u001b[38;5;124m'\u001b[39m\u001b[38;5;124mprices\u001b[39m\u001b[38;5;124m'\u001b[39m \u001b[38;5;129;01min\u001b[39;00m car_data \u001b[38;5;129;01mand\u001b[39;00m \u001b[38;5;28mlen\u001b[39m(car_data[\u001b[38;5;124m'\u001b[39m\u001b[38;5;124mprices\u001b[39m\u001b[38;5;124m'\u001b[39m]) \u001b[38;5;241m>\u001b[39m \u001b[38;5;241m0\u001b[39m \u001b[38;5;28;01melse\u001b[39;00m \u001b[38;5;28;01mNone\u001b[39;00m,\n\u001b[0;32m---> 15\u001b[0m         \u001b[38;5;124m\"\u001b[39m\u001b[38;5;124mmodel\u001b[39m\u001b[38;5;124m\"\u001b[39m: \u001b[43mcar_data\u001b[49m\u001b[43m[\u001b[49m\u001b[38;5;124;43m'\u001b[39;49m\u001b[38;5;124;43mtitle\u001b[39;49m\u001b[38;5;124;43m'\u001b[39;49m\u001b[43m]\u001b[49m,\n\u001b[1;32m     16\u001b[0m         \u001b[38;5;124m\"\u001b[39m\u001b[38;5;124mcity\u001b[39m\u001b[38;5;124m\"\u001b[39m: car_data[\u001b[38;5;124m'\u001b[39m\u001b[38;5;124mlocationCityName\u001b[39m\u001b[38;5;124m'\u001b[39m],\n\u001b[1;32m     17\u001b[0m         \u001b[38;5;124m\"\u001b[39m\u001b[38;5;124mbrand\u001b[39m\u001b[38;5;124m\"\u001b[39m: car_data[\u001b[38;5;124m'\u001b[39m\u001b[38;5;124mmarkNameEng\u001b[39m\u001b[38;5;124m'\u001b[39m],\n\u001b[1;32m     18\u001b[0m         \u001b[38;5;124m'\u001b[39m\u001b[38;5;124mfuel\u001b[39m\u001b[38;5;124m'\u001b[39m: car_data[\u001b[38;5;124m\"\u001b[39m\u001b[38;5;124mautoData\u001b[39m\u001b[38;5;124m\"\u001b[39m][\u001b[38;5;124m\"\u001b[39m\u001b[38;5;124mfuelNameEng\u001b[39m\u001b[38;5;124m\"\u001b[39m] \u001b[38;5;28;01mif\u001b[39;00m \u001b[38;5;124m\"\u001b[39m\u001b[38;5;124mautoData\u001b[39m\u001b[38;5;124m\"\u001b[39m \u001b[38;5;129;01min\u001b[39;00m car_data \u001b[38;5;129;01mand\u001b[39;00m \u001b[38;5;124m\"\u001b[39m\u001b[38;5;124mfuelNameEng\u001b[39m\u001b[38;5;124m\"\u001b[39m \u001b[38;5;129;01min\u001b[39;00m car_data[\u001b[38;5;124m\"\u001b[39m\u001b[38;5;124mautoData\u001b[39m\u001b[38;5;124m\"\u001b[39m] \u001b[38;5;28;01melse\u001b[39;00m \u001b[38;5;28;01mNone\u001b[39;00m,\n\u001b[1;32m     19\u001b[0m         \u001b[38;5;124m'\u001b[39m\u001b[38;5;124mengine\u001b[39m\u001b[38;5;124m'\u001b[39m: car_data[\u001b[38;5;124m\"\u001b[39m\u001b[38;5;124mautoData\u001b[39m\u001b[38;5;124m\"\u001b[39m][\u001b[38;5;124m\"\u001b[39m\u001b[38;5;124mfuelName\u001b[39m\u001b[38;5;124m\"\u001b[39m] \u001b[38;5;28;01mif\u001b[39;00m \u001b[38;5;124m\"\u001b[39m\u001b[38;5;124mautoData\u001b[39m\u001b[38;5;124m\"\u001b[39m \u001b[38;5;129;01min\u001b[39;00m car_data \u001b[38;5;129;01mand\u001b[39;00m \u001b[38;5;124m\"\u001b[39m\u001b[38;5;124mfuelName\u001b[39m\u001b[38;5;124m\"\u001b[39m \u001b[38;5;129;01min\u001b[39;00m car_data[\u001b[38;5;124m\"\u001b[39m\u001b[38;5;124mautoData\u001b[39m\u001b[38;5;124m\"\u001b[39m] \u001b[38;5;28;01melse\u001b[39;00m \u001b[38;5;28;01mNone\u001b[39;00m,\n\u001b[1;32m     20\u001b[0m         \u001b[38;5;124m\"\u001b[39m\u001b[38;5;124myear\u001b[39m\u001b[38;5;124m\"\u001b[39m: car_data[\u001b[38;5;124m\"\u001b[39m\u001b[38;5;124mautoData\u001b[39m\u001b[38;5;124m\"\u001b[39m][\u001b[38;5;124m\"\u001b[39m\u001b[38;5;124myear\u001b[39m\u001b[38;5;124m\"\u001b[39m] \u001b[38;5;28;01mif\u001b[39;00m \u001b[38;5;124m\"\u001b[39m\u001b[38;5;124mautoData\u001b[39m\u001b[38;5;124m\"\u001b[39m \u001b[38;5;129;01min\u001b[39;00m car_data \u001b[38;5;129;01mand\u001b[39;00m \u001b[38;5;124m\"\u001b[39m\u001b[38;5;124myear\u001b[39m\u001b[38;5;124m\"\u001b[39m \u001b[38;5;129;01min\u001b[39;00m car_data[\u001b[38;5;124m\"\u001b[39m\u001b[38;5;124mautoData\u001b[39m\u001b[38;5;124m\"\u001b[39m] \u001b[38;5;28;01melse\u001b[39;00m \u001b[38;5;28;01mNone\u001b[39;00m,\n\u001b[1;32m     21\u001b[0m         \u001b[38;5;124m\"\u001b[39m\u001b[38;5;124mmileage\u001b[39m\u001b[38;5;124m\"\u001b[39m: car_data[\u001b[38;5;124m\"\u001b[39m\u001b[38;5;124mautoData\u001b[39m\u001b[38;5;124m\"\u001b[39m][\u001b[38;5;124m\"\u001b[39m\u001b[38;5;124mrace\u001b[39m\u001b[38;5;124m\"\u001b[39m] \u001b[38;5;28;01mif\u001b[39;00m \u001b[38;5;124m\"\u001b[39m\u001b[38;5;124mautoData\u001b[39m\u001b[38;5;124m\"\u001b[39m \u001b[38;5;129;01min\u001b[39;00m car_data \u001b[38;5;129;01mand\u001b[39;00m \u001b[38;5;124m\"\u001b[39m\u001b[38;5;124mrace\u001b[39m\u001b[38;5;124m\"\u001b[39m \u001b[38;5;129;01min\u001b[39;00m car_data[\u001b[38;5;124m\"\u001b[39m\u001b[38;5;124mautoData\u001b[39m\u001b[38;5;124m\"\u001b[39m] \u001b[38;5;28;01melse\u001b[39;00m \u001b[38;5;28;01mNone\u001b[39;00m,\n\u001b[1;32m     22\u001b[0m         \u001b[38;5;124m\"\u001b[39m\u001b[38;5;124mtransmission\u001b[39m\u001b[38;5;124m\"\u001b[39m: car_data[\u001b[38;5;124m\"\u001b[39m\u001b[38;5;124mautoData\u001b[39m\u001b[38;5;124m\"\u001b[39m][\u001b[38;5;124m\"\u001b[39m\u001b[38;5;124mgearboxName\u001b[39m\u001b[38;5;124m\"\u001b[39m] \u001b[38;5;28;01mif\u001b[39;00m \u001b[38;5;124m\"\u001b[39m\u001b[38;5;124mautoData\u001b[39m\u001b[38;5;124m\"\u001b[39m \u001b[38;5;129;01min\u001b[39;00m car_data \u001b[38;5;129;01mand\u001b[39;00m \u001b[38;5;124m\"\u001b[39m\u001b[38;5;124mgearboxName\u001b[39m\u001b[38;5;124m\"\u001b[39m \u001b[38;5;129;01min\u001b[39;00m car_data[\u001b[38;5;124m\"\u001b[39m\u001b[38;5;124mautoData\u001b[39m\u001b[38;5;124m\"\u001b[39m] \u001b[38;5;28;01melse\u001b[39;00m \u001b[38;5;28;01mNone\u001b[39;00m,\n\u001b[1;32m     23\u001b[0m         \u001b[38;5;124m\"\u001b[39m\u001b[38;5;124mbodytype\u001b[39m\u001b[38;5;124m\"\u001b[39m: car_data[\u001b[38;5;124m\"\u001b[39m\u001b[38;5;124mautoData\u001b[39m\u001b[38;5;124m\"\u001b[39m][\u001b[38;5;124m\"\u001b[39m\u001b[38;5;124msubCategoryNameEng\u001b[39m\u001b[38;5;124m\"\u001b[39m] \u001b[38;5;28;01mif\u001b[39;00m \u001b[38;5;124m\"\u001b[39m\u001b[38;5;124mautoData\u001b[39m\u001b[38;5;124m\"\u001b[39m \u001b[38;5;129;01min\u001b[39;00m car_data \u001b[38;5;129;01mand\u001b[39;00m \u001b[38;5;124m\"\u001b[39m\u001b[38;5;124msubCategoryNameEng\u001b[39m\u001b[38;5;124m\"\u001b[39m \u001b[38;5;129;01min\u001b[39;00m car_data[\u001b[38;5;124m\"\u001b[39m\u001b[38;5;124mautoData\u001b[39m\u001b[38;5;124m\"\u001b[39m] \u001b[38;5;28;01melse\u001b[39;00m \u001b[38;5;28;01mNone\u001b[39;00m\n\u001b[1;32m     24\u001b[0m     }\n\u001b[1;32m     26\u001b[0m     cars_data\u001b[38;5;241m.\u001b[39mappend(car)\n\u001b[1;32m     28\u001b[0m df \u001b[38;5;241m=\u001b[39m pd\u001b[38;5;241m.\u001b[39mDataFrame(cars_data)\n",
      "\u001b[0;31mKeyError\u001b[0m: 'title'"
     ]
    }
   ],
   "source": [
    "# Get few ids in .csv\n",
    "#ids = ['36818982', '37179275', '36732731']\n",
    "ids = ['36818982']\n",
    "base_url = 'https://developers.ria.com/auto/info?api_key=' + api_key + '&auto_id='\n",
    "cars_data = []\n",
    "\n",
    "for car_id in car_ids:\n",
    "    url = base_url + car_id\n",
    "    print(url)\n",
    "    response = requests.get(url)\n",
    "    car_data = response.json()\n",
    "    \n",
    "    car = {\n",
    "        \"price\": car_data['prices'][0]['USD'] if 'prices' in car_data and len(car_data['prices']) > 0 else None,\n",
    "        \"model\": car_data['title'],\n",
    "        \"city\": car_data['locationCityName'],\n",
    "        \"brand\": car_data['markNameEng'],\n",
    "        'fuel': car_data[\"autoData\"][\"fuelNameEng\"] if \"autoData\" in car_data and \"fuelNameEng\" in car_data[\"autoData\"] else None,\n",
    "        'engine': car_data[\"autoData\"][\"fuelName\"] if \"autoData\" in car_data and \"fuelName\" in car_data[\"autoData\"] else None,\n",
    "        \"year\": car_data[\"autoData\"][\"year\"] if \"autoData\" in car_data and \"year\" in car_data[\"autoData\"] else None,\n",
    "        \"mileage\": car_data[\"autoData\"][\"race\"] if \"autoData\" in car_data and \"race\" in car_data[\"autoData\"] else None,\n",
    "        \"transmission\": car_data[\"autoData\"][\"gearboxName\"] if \"autoData\" in car_data and \"gearboxName\" in car_data[\"autoData\"] else None,\n",
    "        \"bodytype\": car_data[\"autoData\"][\"subCategoryNameEng\"] if \"autoData\" in car_data and \"subCategoryNameEng\" in car_data[\"autoData\"] else None\n",
    "    }\n",
    "    \n",
    "    cars_data.append(car)\n",
    "\n",
    "df = pd.DataFrame(cars_data)\n",
    "\n",
    "df.to_csv('cars_data.csv', index=False)"
   ]
  },
  {
   "cell_type": "code",
   "execution_count": 45,
   "metadata": {},
   "outputs": [],
   "source": [
    "df = pd.DataFrame(cars_data)\n",
    "\n",
    "df.to_csv('cars_data.csv', index=False)"
   ]
  }
 ],
 "metadata": {
  "kernelspec": {
   "display_name": "dsi_participant",
   "language": "python",
   "name": "python3"
  },
  "language_info": {
   "codemirror_mode": {
    "name": "ipython",
    "version": 3
   },
   "file_extension": ".py",
   "mimetype": "text/x-python",
   "name": "python",
   "nbconvert_exporter": "python",
   "pygments_lexer": "ipython3",
   "version": "3.9.18"
  }
 },
 "nbformat": 4,
 "nbformat_minor": 2
}
